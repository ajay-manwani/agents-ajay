{
 "cells": [
  {
   "cell_type": "markdown",
   "metadata": {},
   "source": [
    "## Welcome to Week 4, Day 4\n",
    "\n",
    "This is the start of an AWESOME project! Really simple and very effective."
   ]
  },
  {
   "cell_type": "code",
   "execution_count": 1,
   "metadata": {},
   "outputs": [],
   "source": [
    "from typing import Annotated #for adding comming\n",
    "from typing_extensions import TypedDict # for stategraph as replacement for Basemodel\n",
    "from langgraph.graph import StateGraph, START # defining state graph\n",
    "from langgraph.graph.message import add_messages # adding meta data\n",
    "from dotenv import load_dotenv #ENV variable\n",
    "from IPython.display import Image, display #show graph\n",
    "import gradio as gr #UI\n",
    "from langgraph.prebuilt import ToolNode, tools_condition #prebuilt tools from langraph could be playwright\n",
    "import requests # API requests to pushover\n",
    "import os #os\n",
    "from langchain.agents import Tool #defining custom functionsas tool\n",
    "\n",
    "from langchain_openai import ChatOpenAI # calling llm\n",
    "from langgraph.checkpoint.memory import MemorySaver #memory saver"
   ]
  },
  {
   "cell_type": "code",
   "execution_count": 2,
   "metadata": {},
   "outputs": [
    {
     "data": {
      "text/plain": [
       "True"
      ]
     },
     "execution_count": 2,
     "metadata": {},
     "output_type": "execute_result"
    }
   ],
   "source": [
    "load_dotenv(override=True) #load_dotenve(override=True)"
   ]
  },
  {
   "cell_type": "markdown",
   "metadata": {},
   "source": [
    "### Asynchronous LangGraph\n",
    "\n",
    "To run a tool:  \n",
    "Sync: `tool.run(inputs)`  \n",
    "Async: `await tool.arun(inputs)`\n",
    "\n",
    "To invoke the graph:  \n",
    "Sync: `graph.invoke(state)`  \n",
    "Async: `await graph.ainvoke(state)`"
   ]
  },
  {
   "cell_type": "code",
   "execution_count": 3,
   "metadata": {},
   "outputs": [],
   "source": [
    "class State(TypedDict):\n",
    "    \n",
    "    messages: Annotated[list, add_messages]\n",
    "\n",
    "\n",
    "graph_builder = StateGraph(State)"
   ]
  },
  {
   "cell_type": "code",
   "execution_count": 4,
   "metadata": {},
   "outputs": [],
   "source": [
    "pushover_token = os.getenv(\"PUSHOVER_TOKEN\")\n",
    "pushover_user = os.getenv(\"PUSHOVER_USER\")\n",
    "pushover_url = \"https://api.pushover.net/1/messages.json\"\n",
    "\n",
    "def push(text: str):\n",
    "    \"\"\"Send a push notification to the user\"\"\"\n",
    "    requests.post(pushover_url, data = {\"token\": pushover_token, \"user\": pushover_user, \"message\": text})\n",
    "\n",
    "tool_push = Tool(\n",
    "        name=\"send_push_notification\",\n",
    "        func=push,\n",
    "        description=\"useful for when you want to send a push notification\"\n",
    "    )"
   ]
  },
  {
   "cell_type": "markdown",
   "metadata": {},
   "source": [
    "## Extra installation step - if you don't have Node and Playwright on your computer\n",
    "\n",
    "Next, you need to install NodeJS and Playwright on your computer if you don't already have them. Please see instructions here:\n",
    "\n",
    "[Node and Playwright setup](../setup/SETUP-node.md)"
   ]
  },
  {
   "cell_type": "markdown",
   "metadata": {},
   "source": [
    "## And now - after Installing Playwright, a heads up for Windows PC Users:\n",
    "\n",
    "While executing the next few cells, you might hit a problem with the Playwright browser raising a NotImplementedError.\n",
    "\n",
    "This should work when we move to python modules, but it can cause problems in Windows in a notebook.\n",
    "\n",
    "If you it this error and would like to run the notebook, you need to make a small change which seems quite hacky! You need to do this AFTER installing Playwright (prior cells)\n",
    "\n",
    "1. Right click in `.venv` in the File Explorer on the left and select \"Find in folder\"\n",
    "2. Search for `asyncio.set_event_loop_policy(WindowsSelectorEventLoopPolicy())`  \n",
    "3. That code should be found in a line of code in a file called `kernelapp.py`\n",
    "4. Comment out the entire else clause that this line is a part of - see the fragment below. Be sure to have the \"pass\" statement after the ImportError line.\n",
    "5. Restart the kernel by pressing the \"Restart\" button above\n",
    "\n",
    "```python\n",
    "        if sys.platform.startswith(\"win\") and sys.version_info >= (3, 8):\n",
    "            import asyncio\n",
    " \n",
    "            try:\n",
    "                from asyncio import WindowsProactorEventLoopPolicy, WindowsSelectorEventLoopPolicy\n",
    "            except ImportError:\n",
    "                pass\n",
    "                # not affected\n",
    "           # else:\n",
    "            #    if type(asyncio.get_event_loop_policy()) is WindowsProactorEventLoopPolicy:\n",
    "                    # WindowsProactorEventLoopPolicy is not compatible with tornado 6\n",
    "                    # fallback to the pre-3.8 default of Selector\n",
    "                    # asyncio.set_event_loop_policy(WindowsSelectorEventLoopPolicy())\n",
    "```\n",
    "\n",
    "Thank you to student Nicolas for finding this, and to Kalyan, Yaki, Zibin and Bhaskar for confirming that this worked for them! And to Vladislav for the extra pointers.\n",
    "\n",
    "As an alternative, you can just move to a Python module (which we do anyway in Day 5)"
   ]
  },
  {
   "cell_type": "code",
   "execution_count": 5,
   "metadata": {},
   "outputs": [],
   "source": [
    "# Introducing nest_asyncio\n",
    "# Python async code only allows for one \"event loop\" processing aynchronous events.\n",
    "# The `nest_asyncio` library patches this, and is used for special situations, if you need to run a nested event loop.\n",
    "\n",
    "import nest_asyncio\n",
    "nest_asyncio.apply()"
   ]
  },
  {
   "cell_type": "markdown",
   "metadata": {},
   "source": [
    "### The LangChain community\n",
    "\n",
    "One of the remarkable things about LangChain is the rich community around it.\n",
    "\n",
    "Check this out:\n"
   ]
  },
  {
   "cell_type": "code",
   "execution_count": 6,
   "metadata": {},
   "outputs": [],
   "source": [
    "from langchain_community.agent_toolkits import PlayWrightBrowserToolkit\n",
    "from langchain_community.tools.playwright.utils import create_async_playwright_browser\n",
    "\n",
    "# If you get a NotImplementedError here or later, see the Heads Up at the top of the notebook\n",
    "\n",
    "async_browser =  create_async_playwright_browser(headless=False)  # headful mode\n",
    "toolkit = PlayWrightBrowserToolkit.from_browser(async_browser=async_browser)\n",
    "tools = toolkit.get_tools()"
   ]
  },
  {
   "cell_type": "code",
   "execution_count": 7,
   "metadata": {},
   "outputs": [
    {
     "name": "stdout",
     "output_type": "stream",
     "text": [
      "click_element=async_browser=<Browser type=<BrowserType name=chromium executable_path=C:\\Users\\Ajay Manwani\\AppData\\Local\\ms-playwright\\chromium-1169\\chrome-win\\chrome.exe> version=136.0.7103.25>\n",
      "navigate_browser=async_browser=<Browser type=<BrowserType name=chromium executable_path=C:\\Users\\Ajay Manwani\\AppData\\Local\\ms-playwright\\chromium-1169\\chrome-win\\chrome.exe> version=136.0.7103.25>\n",
      "previous_webpage=async_browser=<Browser type=<BrowserType name=chromium executable_path=C:\\Users\\Ajay Manwani\\AppData\\Local\\ms-playwright\\chromium-1169\\chrome-win\\chrome.exe> version=136.0.7103.25>\n",
      "extract_text=async_browser=<Browser type=<BrowserType name=chromium executable_path=C:\\Users\\Ajay Manwani\\AppData\\Local\\ms-playwright\\chromium-1169\\chrome-win\\chrome.exe> version=136.0.7103.25>\n",
      "extract_hyperlinks=async_browser=<Browser type=<BrowserType name=chromium executable_path=C:\\Users\\Ajay Manwani\\AppData\\Local\\ms-playwright\\chromium-1169\\chrome-win\\chrome.exe> version=136.0.7103.25>\n",
      "get_elements=async_browser=<Browser type=<BrowserType name=chromium executable_path=C:\\Users\\Ajay Manwani\\AppData\\Local\\ms-playwright\\chromium-1169\\chrome-win\\chrome.exe> version=136.0.7103.25>\n",
      "current_webpage=async_browser=<Browser type=<BrowserType name=chromium executable_path=C:\\Users\\Ajay Manwani\\AppData\\Local\\ms-playwright\\chromium-1169\\chrome-win\\chrome.exe> version=136.0.7103.25>\n"
     ]
    }
   ],
   "source": [
    "for tool in tools:\n",
    "    print(f\"{tool.name}={tool}\")"
   ]
  },
  {
   "cell_type": "code",
   "execution_count": 8,
   "metadata": {},
   "outputs": [],
   "source": [
    "tool_dict = {tool.name:tool for tool in tools}\n",
    "\n",
    "navigate_tool = tool_dict.get(\"navigate_browser\")\n",
    "extract_text_tool = tool_dict.get(\"extract_text\")\n",
    "\n",
    "    \n",
    "#await navigate_tool.arun({\"url\": \"https://www.cnn.com\"})\n",
    "await navigate_tool.arun({\"url\": \"https://bbc.com\"})\n",
    "text = await extract_text_tool.arun({})"
   ]
  },
  {
   "cell_type": "code",
   "execution_count": 9,
   "metadata": {},
   "outputs": [
    {
     "name": "stdout",
     "output_type": "stream",
     "text": [
      "BBC Home - Breaking News, World News, US News, Sports, Business,\n",
      "Innovation, Climate, Culture, Travel, Video & Audio Skip to content\n",
      "Advertisement Advertisement British Broadcasting Corporation Register\n",
      "Sign In Home News Sport Business Innovation Culture Arts Travel Earth\n",
      "Audio Video Live Home News Israel-Gaza War War in Ukraine US & Canada\n",
      "UK UK Politics England N. Ireland N. Ireland Politics Scotland\n",
      "Scotland Politics Wales Wales Politics Africa Asia China India\n",
      "Australia Europe Latin America Middle East In Pictures BBC InDepth BBC\n",
      "Verify Sport Business Executive Lounge Technology of Business Future\n",
      "of Business Innovation Technology Science & Health Artificial\n",
      "Intelligence AI v the Mind Culture Film & TV Music Art & Design Style\n",
      "Books Entertainment News Arts Arts in Motion Travel Destinations\n",
      "Africa Antarctica Asia Australia and Pacific Caribbean & Bermuda\n",
      "Central America Europe Middle East North America South America World’s\n",
      "Table Culture & Experiences Adventures The SpeciaList Earth Natural\n",
      "Wonders Weather & Science Climate Solutions Sustainable Business Green\n",
      "Living Audio Podcast Categories Radio Audio FAQs Video Live Live News\n",
      "Live Sport Home News Sport Business Innovation Culture Arts Travel\n",
      "Earth Audio Video Live Weather Newsletters Reeling from Trump's\n",
      "tariffs, India and China seek a business reboot India's prime minister\n",
      "hopes to draw nearer to some of the world’s largest economies. 4 hrs\n",
      "ago World Thousands demonstrate across Mexico for the 130,000 missing\n",
      "Thousands march through Mexico's cities urging more government action\n",
      "against enforced disappearances - a problem often linked to drug\n",
      "cartels. 5 hrs ago Latin America Reeling from Trump's tariffs, India\n",
      "and China seek a business reboot India's prime minister hopes to draw\n",
      "nearer to some of the world’s largest economies. 4 hrs ago World\n",
      "Thousands demonstrate across Mexico for the 130,000 missing Thousands\n",
      "march through Mexico's cities urging more government action against\n",
      "enforced disappearances - a problem often linked to drug cartels. 5\n",
      "hrs ago Latin America Putin and Modi in China for summit overshadowed\n",
      "by trade wars with US Prime Minister Narendra Modi is in China for the\n",
      "first time in seven years. 2 hrs ago World Life inside notorious\n",
      "immigration centre 'Alligator Alcatraz' as it enters final days Family\n",
      "members of detainees say their loved ones disappeared into the\n",
      "notorious immigration detention facility. 9 hrs ago US & Canada The\n",
      "trade in US body parts that's completely legal - but ripe for\n",
      "exploitation Human remains can mean profits. But there is an emotional\n",
      "debate about the ethics of the industry. 10 hrs ago BBC InDepth The\n",
      "best looks from the Venice red carpet so far Celebrities have donned\n",
      "their best gowns and suits on the red carpet for this year's Venice\n",
      "Film Festival. 14 hrs ago Europe Houthis confirm their prime minister\n",
      "killed in Israeli strike Ahmed Ghaleb Nasser al-Rahawi and several\n",
      "other Houthi officials were killed in the attack, the Iran-backed\n",
      "movement says. 12 hrs ago Middle East Weekend reads The biggest myths\n",
      "about sun protection From when exactly to use sunscreen to whether\n",
      "beach umbrellas really work, this is what scientific research tells us\n",
      "about staying safe in the sun. 12 of the best TV shows to watch this\n",
      "September From a new FBI thriller by the creator of Mare of Easttown\n",
      "to a sequel to The Office and a sports comedy starring Hollywood\n",
      "A-lister Glen Powell. Best audio of the week Witness History John\n",
      "Lennon's final headline concerts Save 9 mins You're Dead to Me Viking\n",
      "Women: wives, weavers and warriors Save 57 mins History's Heroes\n",
      "Jessica Mitford Finds Her Voice Save 28 mins More or Less: Behind the\n",
      "Stats Do women feel the cold more than men? Save 8 mins The Interview\n",
      "Conductor Gustavo Dudamel: Music has the power to unite Save 22 mins\n",
      "The Documentary Podcast Adeju Thompson: Taking fashion label Lagos\n",
      "Space Programme to the world Save 26 mins What's Up Docs? Is our noisy\n",
      "world killing us? Save 28 mins The Climate Question Can we build a\n",
      "world where hurricanes can't kill? Save 26 mins More news Intermittent\n",
      "fasting: benefits or risks? Study raises questions about heart health\n",
      "A new study of 19,000 adults links eight-hour eating windows to a\n",
      "higher risk of cardiovascular death. 8 hrs ago World Prominent\n",
      "Ukrainian politician Andriy Parubiy shot dead in Lviv President\n",
      "Zelensky said the killing of Parubiy was a \"terrible murder\" - with a\n",
      "manhunt under way. 16 hrs ago Europe What happens next after Trump\n",
      "tariffs ruled illegal? A US appeals court has ruled that most of\n",
      "Trump’s tariffs are illegal - so what happens now? 18 hrs ago US &\n",
      "Canada Manhunt in Australian bush brings long-dismissed conspiracy\n",
      "theorists to the fore Two officers were shot dead in a small, rural\n",
      "town, allegedly by a man with links to the \"SovCit\" movement. 1 day\n",
      "ago Australia Councils still plan asylum hotel legal action despite\n",
      "Epping ruling Several councils say the overturning of an injunction\n",
      "regarding The Bell Hotel has not changed their plans. 15 hrs ago UK\n",
      "Prominent Ukrainian politician Andriy Parubiy shot dead in Lviv\n",
      "President Zelensky said the killing of Parubiy was a \"terrible murder\"\n",
      "- with a manhunt under way. 16 hrs ago Europe Chicago mayor signs\n",
      "order to resist potential Trump crackdown The order is the latest\n",
      "chapter in an escalating feud between the White House and Illinois\n",
      "state officials over violent crime and immigration. 10 hrs ago US &\n",
      "Canada French voice fears over Bayeux Tapestry move to UK The precious\n",
      "medieval work is to be displayed in London next year - but the French\n",
      "art world is strongly opposed. 8 hrs ago Europe What happens next\n",
      "after Trump tariffs ruled illegal? A US appeals court has ruled that\n",
      "most of Trump’s tariffs are illegal - so what happens now? 18 hrs ago\n",
      "US & Canada Editor's picks The secret childhood of Princess Diana\n",
      "Princess Diana’s cousin shares unseen photos of their private\n",
      "childhood. 4 days ago BBC Select Is this how AI might eliminate\n",
      "humanity? A new research paper predicts AI autonomy by 2027 could lead\n",
      "to human extinction within a decade. 22 Aug 2025 Tech Now The rare\n",
      "condition that makes faces appear 'demonic' Thanks to one patient, we\n",
      "now have the most accurate insight into life through the eyes of\n",
      "people affected by prosopometamorphopsia. 7 May 2024 Science & Health\n",
      "The most venomous snake of Guyana’s Amazon rainforest Explorer Lucy\n",
      "Shepherd uncovers a host of predators, including the deadly Bushmaster\n",
      "snake, in Guyana’s Amazon rainforest. 5 days ago BBC Select The\n",
      "eclipse that proved Einstein right On May 29, 1919, the sun\n",
      "disappeared for 6 minutes and 51 seconds, changing science forever. 21\n",
      "Oct 2023 Space Vladimir Komarov: The cosmonaut who fell to Earth Did\n",
      "cosmonaut Vladimir Komarov climb aboard the Soyuz 1 spacecraft knowing\n",
      "he might never return to Earth? 10 Jan 2023 Space Which hiccup\n",
      "remedies actually work? Why do we get hiccups and how can we get rid\n",
      "of them? 20 Jun 2024 Science & Health Chromophobia: Who stole the\n",
      "colour from classical art? The way we see ancient Greek and Roman\n",
      "sculpture isn't actually the way it was first created. 6 Sep 2022 Art\n",
      "Venice Film Festival Emma Stone dazzles Venice with alien kidnap drama\n",
      "The actress plays a powerful CEO who is held captive in a basement by\n",
      "two conspiracy theorists. Frankenstein is monster success at Venice\n",
      "film festival Saltburn star Jacob Elordi is unrecognisable as\n",
      "Frankenstein's creation in the new Netflix adaptation. Travel A French\n",
      "retreat without cars - or clothes The Hyères Islands offer an idyllic\n",
      "escape into protected pine forests, unspoilt beaches – and one of\n",
      "France's most unique communities. See more Health and wellness Why is\n",
      "lung cancer rising in non-smokers? The number of lung cancer cases in\n",
      "people who have never smoked is increasing. The disease is different\n",
      "from lung cancer caused by smoking, so what causes it? How to prevent\n",
      "wasps ruining your picnic Long summer days call for picnics – but\n",
      "wasps often make an uninvited appearance. One quick trick can stop\n",
      "them from ruining an al fresco get-together. Why your fingers wrinkle\n",
      "in the bath The skin on our fingertips and toes shrivels like prunes\n",
      "when soaked in water. But is this an adaptation from our evolutionary\n",
      "past? And what can it reveal about our health today? Earth Drones join\n",
      "battle against eight-toothed beetle threatening forests The bark\n",
      "beetle has been the scourge of Europe, killing millions of spruce\n",
      "trees. See more US & Canada news Trump administration moves to fire\n",
      "most Voice of America journalists Termination notices have been issued\n",
      "to more than 500 employees of VOA and its parent agency. Why\n",
      "California and Texas are at the centre of a redistricting battle US\n",
      "court rules many of Trump's global tariffs are illegal White House\n",
      "defends Robert F Kennedy Jr amid CDC turmoil More world news Three\n",
      "dead after protests over death of taxi driver in Indonesia The\n",
      "demonstrations - which also focus on cost-of-living and politicians\n",
      "expenses - are seen as a key test for President Prabowo Subianto. US\n",
      "blocks Palestinian leader from attending UN meeting in New York The\n",
      "death of 'soul of South African storytelling' sparks grief and anger\n",
      "Barrier being built around besieged Sudan city, satellite images show\n",
      "Business As beer sales fall, young Germans develop taste for alcohol-\n",
      "free lager Non-alcoholic sales have more than doubled in recent years,\n",
      "even though Germany's wider beer market has slumped. The first game to\n",
      "feel truly cinematic is back - years after its creator left How coffee\n",
      "chains like Costa lost the matcha generation 'Gringos out!': Mexicans\n",
      "protest against tourists and gentrification Sport Wissa asks Brentford\n",
      "to 'keep their word' and allow move Striker Yoane Wissa calls on\n",
      "Brentford to \"keep their word\" and let him leave, accusing them of\n",
      "\"unduly standing in his way\" of a move to Newcastle. 'The most sterile\n",
      "game there is': Another controversial day for VAR Man Utd's vital win\n",
      "can't mask urgent goalkeeping issues 'He will bounce back' -\n",
      "Alexander-Arnold impresses on Real return Latest Sport audio Rugby\n",
      "Union Weekly Wales out of World Cup but England and Scotland progress\n",
      "Save 37 mins 606 Man United grab the points, Spurs stutter & no\n",
      "Newcastle nine Save 1 hr 19 mins F1: Chequered Flag Dutch Grand Prix\n",
      "Qualifying Review Save 37 mins Football Daily Jarrod Bowen - The\n",
      "Football Interview Save 21 mins Football Daily The Commentators' View:\n",
      "Trent dropped & BTS at 5 Live Sport Save 53 mins Rugby Union Weekly\n",
      "Women’s Rugby World Cup: Thrive to survive Save 50 mins Football Daily\n",
      "Euro Leagues: Vardy party heading to Cremonese? And the return of Real\n",
      "Oviedo Save 52 mins F1: Chequered Flag Dutch Grand Prix Preview Save\n",
      "40 mins Tech The bomber that became WW2's most expensive weapon The\n",
      "Boeing B-29 was the most advanced bomber of World War Two, and more\n",
      "expensive to design and build than the atomic bombs it dropped. Is\n",
      "Miss England's AI round dangerous or progressive? Mother and baby home\n",
      "archives in NI to be digitised AI stethoscope could detect major heart\n",
      "conditions in seconds Science & health Gordon Ramsay says he had\n",
      "treatment to remove skin cancer The TV chef thanked his medical team\n",
      "for their 'fast, reactive work' to remove the cancer. Are weight-loss\n",
      "jabs reshaping the wedding dress industry? Meet the three-year-olds\n",
      "helping anxious teens spend more time in school The simple infection\n",
      "that can rewire children's brains Culture Why a hunky Frankenstein's\n",
      "monster misses the point Guillermo del Toro's adaptation of Mary\n",
      "Shelley's classic novel features the \"ridiculously good-looking\" Jacob\n",
      "Elordi as the monster – which results in a muddled film. They just met\n",
      "- now they're honeymooning in 'hell' America's royal wedding? What\n",
      "Taylor and Travis' big day could look like Black comedy No Other\n",
      "Choice is a 'masterpiece' ★★★★★ Arts 'How I discovered a masterpiece'\n",
      "A British art restorer was shocked when an ordinary painting she was\n",
      "cleaning turned out to be the work of the Italian master Titian.\n",
      "Alastair Sooke tells her story. Inside the secret lives of Yakuza\n",
      "women The moment that changed Picasso The first time sex was depicted\n",
      "in art? Watch Behind the scenes at Gaudi's stunning La Sagrada Familia\n",
      "Tech Now gains special access to Gaudí's iconic La Sagrada Familia as\n",
      "it nears completion. See more Travel The 'trash district' fuelling\n",
      "Mexico City's top restaurants How the Central de Abasto market has\n",
      "become the unlikely backbone of Mexico City's fine-dining revolution.\n",
      "Where American travellers are spending Labor Day weekend Three expert\n",
      "tips for booking a last-minute trip Is 'pay what you can' the newest\n",
      "restaurant trend? World's Table The little-known isle where meals cook\n",
      "beneath your feet On the volcanic island of Ischia in Italy, an\n",
      "ancient culinary tradition hides beneath the surface. Costa Rica's\n",
      "nine-course meal in the sky What is 'real' Italian pizza? The 'other'\n",
      "Michelin award travellers should know Earth Military drills spark\n",
      "hundreds of wildfires in UK Live explosives on army training sites in\n",
      "the UK countryside mean many wildfires cannot be tackled. The Druids\n",
      "Oak is 800 years old - can it help save tomorrow's forests? UK\n",
      "Conservatives pledge to get all oil and gas out of North Sea Thirsty\n",
      "data centres boom in drought-hit Mexico Video How tech is helping the\n",
      "world’s most endangered species Tech Now gets up close to black rhinos\n",
      "at a new conservation centre in the UK. Watch the face-clawing sloth\n",
      "bear that scares tigers Why do US train stations look so depressing?\n",
      "The best-case scenario for AI in schools Discover more from the BBC\n",
      "Football Extra The latest news, insights and gossip from the Premier\n",
      "League, direct to your inbox every weekday from ex-player Pat Nevin\n",
      "and the wider BBC Sport squad. Download the BBC app Click here to\n",
      "download the BBC app for Apple and Android devices. US Politics Unspun\n",
      "No noise. No agenda. Just expert analysis of the issues that matter\n",
      "most from Anthony Zurcher, every Wednesday. Register for a BBC account\n",
      "Don't have time to read everything right now? Your BBC account lets\n",
      "you save articles and videos for later. Sign up for the Essential List\n",
      "The week's best stories, handpicked by BBC editors, in your inbox\n",
      "every Tuesday and Friday. Sign up to News Briefing News and expert\n",
      "analysis for every schedule. Get the morning and evening editions of\n",
      "our flagship newsletter in your inbox. British Broadcasting\n",
      "Corporation Home News Sport Business Innovation Culture Arts Travel\n",
      "Earth Audio Video Live Weather BBC Shop BritBox BBC in other languages\n",
      "Follow BBC on: Terms of Use About the BBC Privacy Policy Cookies\n",
      "Accessibility Help Contact the BBC Advertise with us Do not share or\n",
      "sell my info BBC.com Help & FAQs Content Index Copyright 2025 BBC. All\n",
      "rights reserved. The BBC is not responsible for the content of\n",
      "external sites. Read about our approach to external linking.\n"
     ]
    }
   ],
   "source": [
    "import textwrap\n",
    "print(textwrap.fill(text))"
   ]
  },
  {
   "cell_type": "code",
   "execution_count": 10,
   "metadata": {},
   "outputs": [],
   "source": [
    "all_tools = tools + [tool_push]"
   ]
  },
  {
   "cell_type": "code",
   "execution_count": 11,
   "metadata": {},
   "outputs": [],
   "source": [
    "\n",
    "llm = ChatOpenAI(model=\"gpt-4o-mini\")\n",
    "llm_with_tools = llm.bind_tools(all_tools)\n",
    "\n",
    "\n",
    "def chatbot(state: State):\n",
    "    return {\"messages\": [llm_with_tools.invoke(state[\"messages\"])]}\n"
   ]
  },
  {
   "cell_type": "code",
   "execution_count": 12,
   "metadata": {},
   "outputs": [
    {
     "data": {
      "image/png": "[encoded data removed]",
      "text/plain": [
       "<IPython.core.display.Image object>"
      ]
     },
     "metadata": {},
     "output_type": "display_data"
    }
   ],
   "source": [
    "\n",
    "graph_builder = StateGraph(State)\n",
    "graph_builder.add_node(\"chatbot\", chatbot)\n",
    "graph_builder.add_node(\"tools\", ToolNode(tools=all_tools))\n",
    "graph_builder.add_conditional_edges( \"chatbot\", tools_condition, \"tools\")\n",
    "graph_builder.add_edge(\"tools\", \"chatbot\")\n",
    "graph_builder.add_edge(START, \"chatbot\")\n",
    "\n",
    "memory = MemorySaver()\n",
    "graph = graph_builder.compile(checkpointer=memory)\n",
    "display(Image(graph.get_graph().draw_mermaid_png()))"
   ]
  },
  {
   "cell_type": "code",
   "execution_count": 13,
   "metadata": {},
   "outputs": [
    {
     "name": "stdout",
     "output_type": "stream",
     "text": [
      "* Running on local URL:  http://127.0.0.1:7860\n",
      "* To create a public link, set `share=True` in `launch()`.\n"
     ]
    },
    {
     "data": {
      "text/html": [
       "<div><iframe src=\"http://127.0.0.1:7860/\" width=\"100%\" height=\"500\" allow=\"autoplay; camera; microphone; clipboard-read; clipboard-write;\" frameborder=\"0\" allowfullscreen></iframe></div>"
      ],
      "text/plain": [
       "<IPython.core.display.HTML object>"
      ]
     },
     "metadata": {},
     "output_type": "display_data"
    },
    {
     "data": {
      "text/plain": []
     },
     "execution_count": 13,
     "metadata": {},
     "output_type": "execute_result"
    }
   ],
   "source": [
    "config = {\"configurable\": {\"thread_id\": \"55\"}}\n",
    "\n",
    "async def chat(user_input: str, history):\n",
    "    result = await graph.ainvoke({\"messages\": [{\"role\": \"user\", \"content\": user_input}]}, config=config)\n",
    "    return result[\"messages\"][-1].content\n",
    "\n",
    "\n",
    "gr.ChatInterface(chat, type=\"messages\").launch()"
   ]
  },
  {
   "cell_type": "code",
   "execution_count": null,
   "metadata": {},
   "outputs": [],
   "source": []
  }
 ],
 "metadata": {
  "kernelspec": {
   "display_name": "agents (3.12.11)",
   "language": "python",
   "name": "python3"
  },
  "language_info": {
   "codemirror_mode": {
    "name": "ipython",
    "version": 3
   },
   "file_extension": ".py",
   "mimetype": "text/x-python",
   "name": "python",
   "nbconvert_exporter": "python",
   "pygments_lexer": "ipython3",
   "version": "3.12.11"
  }
 },
 "nbformat": 4,
 "nbformat_minor": 2
}
