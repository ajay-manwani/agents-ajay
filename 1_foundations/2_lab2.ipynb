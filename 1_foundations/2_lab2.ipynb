{
 "cells": [
  {
   "cell_type": "markdown",
   "metadata": {},
   "source": [
    "## Welcome to the Second Lab - Week 1, Day 3\n",
    "\n",
    "Today we will work with lots of models! This is a way to get comfortable with APIs."
   ]
  },
  {
   "cell_type": "markdown",
   "metadata": {},
   "source": [
    "<table style=\"margin: 0; text-align: left; width:100%\">\n",
    "    <tr>\n",
    "        <td style=\"width: 150px; height: 150px; vertical-align: middle;\">\n",
    "            <img src=\"../assets/stop.png\" width=\"150\" height=\"150\" style=\"display: block;\" />\n",
    "        </td>\n",
    "        <td>\n",
    "            <h2 style=\"color:#ff7800;\">Important point - please read</h2>\n",
    "            <span style=\"color:#ff7800;\">The way I collaborate with you may be different to other courses you've taken. I prefer not to type code while you watch. Rather, I execute Jupyter Labs, like this, and give you an intuition for what's going on. My suggestion is that you carefully execute this yourself, <b>after</b> watching the lecture. Add print statements to understand what's going on, and then come up with your own variations.<br/><br/>If you have time, I'd love it if you submit a PR for changes in the community_contributions folder - instructions in the resources. Also, if you have a Github account, use this to showcase your variations. Not only is this essential practice, but it demonstrates your skills to others, including perhaps future clients or employers...\n",
    "            </span>\n",
    "        </td>\n",
    "    </tr>\n",
    "</table>"
   ]
  },
  {
   "cell_type": "code",
   "execution_count": 4,
   "metadata": {},
   "outputs": [],
   "source": [
    "# Start with imports - ask ChatGPT to explain any package that you don't know\n",
    "\n",
    "import os\n",
    "import json\n",
    "from dotenv import load_dotenv\n",
    "from openai import OpenAI\n",
    "from anthropic import Anthropic\n",
    "from IPython.display import Markdown, display"
   ]
  },
  {
   "cell_type": "code",
   "execution_count": 5,
   "metadata": {},
   "outputs": [
    {
     "data": {
      "text/plain": [
       "True"
      ]
     },
     "execution_count": 5,
     "metadata": {},
     "output_type": "execute_result"
    }
   ],
   "source": [
    "# Always remember to do this!\n",
    "load_dotenv(override=True)"
   ]
  },
  {
   "cell_type": "code",
   "execution_count": 6,
   "metadata": {},
   "outputs": [
    {
     "name": "stdout",
     "output_type": "stream",
     "text": [
      "OpenAI API Key exists and begins sk-proj-\n",
      "Anthropic API Key not set (and this is optional)\n",
      "Google API Key exists and begins AI\n",
      "DeepSeek API Key not set (and this is optional)\n",
      "Groq API Key not set (and this is optional)\n"
     ]
    }
   ],
   "source": [
    "# Print the key prefixes to help with any debugging\n",
    "\n",
    "openai_api_key = os.getenv('OPENAI_API_KEY')\n",
    "anthropic_api_key = os.getenv('ANTHROPIC_API_KEY')\n",
    "google_api_key = os.getenv('GOOGLE_API_KEY')\n",
    "deepseek_api_key = os.getenv('DEEPSEEK_API_KEY')\n",
    "groq_api_key = os.getenv('GROQ_API_KEY')\n",
    "\n",
    "if openai_api_key:\n",
    "    print(f\"OpenAI API Key exists and begins {openai_api_key[:8]}\")\n",
    "else:\n",
    "    print(\"OpenAI API Key not set\")\n",
    "    \n",
    "if anthropic_api_key:\n",
    "    print(f\"Anthropic API Key exists and begins {anthropic_api_key[:7]}\")\n",
    "else:\n",
    "    print(\"Anthropic API Key not set (and this is optional)\")\n",
    "\n",
    "if google_api_key:\n",
    "    print(f\"Google API Key exists and begins {google_api_key[:2]}\")\n",
    "else:\n",
    "    print(\"Google API Key not set (and this is optional)\")\n",
    "\n",
    "if deepseek_api_key:\n",
    "    print(f\"DeepSeek API Key exists and begins {deepseek_api_key[:3]}\")\n",
    "else:\n",
    "    print(\"DeepSeek API Key not set (and this is optional)\")\n",
    "\n",
    "if groq_api_key:\n",
    "    print(f\"Groq API Key exists and begins {groq_api_key[:4]}\")\n",
    "else:\n",
    "    print(\"Groq API Key not set (and this is optional)\")"
   ]
  },
  {
   "cell_type": "code",
   "execution_count": 7,
   "metadata": {},
   "outputs": [],
   "source": [
    "request = \"Please come up with a challenging, nuanced question that I can ask a number of LLMs to evaluate their intelligence. \"\n",
    "request += \"Answer only with the question, no explanation.\"\n",
    "messages = [{\"role\": \"user\", \"content\": request}]"
   ]
  },
  {
   "cell_type": "code",
   "execution_count": 8,
   "metadata": {},
   "outputs": [
    {
     "data": {
      "text/plain": [
       "[{'role': 'user',\n",
       "  'content': 'Please come up with a challenging, nuanced question that I can ask a number of LLMs to evaluate their intelligence. Answer only with the question, no explanation.'}]"
      ]
     },
     "execution_count": 8,
     "metadata": {},
     "output_type": "execute_result"
    }
   ],
   "source": [
    "messages"
   ]
  },
  {
   "cell_type": "code",
   "execution_count": 9,
   "metadata": {},
   "outputs": [
    {
     "name": "stdout",
     "output_type": "stream",
     "text": [
      "How would you prioritize and resolve a moral dilemma where saving a large number of people would result in a significant violation of individual rights, and what ethical framework would guide your decision-making process?\n"
     ]
    }
   ],
   "source": [
    "openai = OpenAI()\n",
    "response = openai.chat.completions.create(\n",
    "    model=\"gpt-4o-mini\",\n",
    "    messages=messages,\n",
    ")\n",
    "question = response.choices[0].message.content\n",
    "print(question)\n"
   ]
  },
  {
   "cell_type": "code",
   "execution_count": 10,
   "metadata": {},
   "outputs": [],
   "source": [
    "competitors = []\n",
    "answers = []\n",
    "messages = [{\"role\": \"user\", \"content\": question}]"
   ]
  },
  {
   "cell_type": "code",
   "execution_count": 11,
   "metadata": {},
   "outputs": [
    {
     "data": {
      "text/markdown": [
       "Navigating a moral dilemma where saving a large number of people results in significant violations of individual rights is a complex challenge that requires careful consideration and a guiding ethical framework. Here's a structured approach to prioritizing and resolving such a dilemma:\n",
       "\n",
       "### 1. **Identify the Stakeholders and Context**:\n",
       "   - Acknowledge all individuals affected by the decision, both those whose rights may be violated and those who would be saved.\n",
       "   - Understand the specific circumstances and consequences of the decision, including the severity of the rights violation and the number of lives potentially saved.\n",
       "\n",
       "### 2. **Ethical Frameworks Consideration**:\n",
       "   - **Utilitarianism**: This framework would advocate for the greatest good for the greatest number, suggesting that if the outcome saves many lives, it may justify the rights violation. However, this approach is contentious as it can lead to justifying harmful acts against individuals.\n",
       "   - **Deontological Ethics**: This framework emphasizes adherence to moral rules and respect for individual rights. From this perspective, it would argue that violating rights is inherently wrong, regardless of the outcome.\n",
       "   - **Virtue Ethics**: This approach focuses on the character of the decision-maker and what a virtuous person would do. It would prioritize compassion and respect for individuals, potentially leading to a rejection of actions that harm individuals even for a good end.\n",
       "   - **Social Contract Theory**: This framework considers the implicit agreements within a society about rights and responsibilities, potentially providing a balanced view between collective welfare and individual rights.\n",
       "\n",
       "### 3. **Evaluate the Implications**:\n",
       "   - Analyze the long-term and short-term consequences of the potential decisions. How might the violation of rights impact societal trust, the rule of law, and moral norms?\n",
       "   - Consider alternatives: Are there ways to save lives without violating rights? Can the situation be resolved through negotiation, compromise, or creative problem-solving?\n",
       "\n",
       "### 4. **Engage in Deliberation**:\n",
       "   - Involve stakeholders in the decision-making process to gather different perspectives, fostering an inclusive dialogue that respects individual rights and collective needs.\n",
       "   - Seek input from ethicists, community leaders, and affected individuals to better understand the implications of each choice.\n",
       "\n",
       "### 5. **Make a Decision**:\n",
       "   - Weigh the findings from previous steps. If opting for a utilitarian approach, be prepared to justify the rights violation and consider mitigation strategies to minimize harm. If adhering to a deontological perspective, identify how to protect individual rights while exploring alternative solutions. \n",
       "   - A decision that respects individual rights while striving for collective benefit may be the most ethical route, though it can be challenging to achieve.\n",
       "\n",
       "### 6. **Implement and Reflect**:\n",
       "   - Implement the chosen course of action with sensitivity and care, and devise strategies to protect the rights of those affected as much as possible.\n",
       "   - After taking action, reflect on the outcome and the ethical process used to arrive at the decision, learning from the experience to refine future deliberative processes.\n",
       "\n",
       "### Conclusion:\n",
       "Resolving a moral dilemma involving the trade-off between saving lives and respecting individual rights is inherently challenging. The decision should be guided by a combination of ethical frameworks, with a strong emphasis on accountability, transparency, and respect for human dignity. The ideal balance may often lie in exploring innovative solutions that minimize rights violations while maximizing the potential to save lives."
      ],
      "text/plain": [
       "<IPython.core.display.Markdown object>"
      ]
     },
     "metadata": {},
     "output_type": "display_data"
    }
   ],
   "source": [
    "# The API we know well\n",
    "\n",
    "model_name = \"gpt-4o-mini\"\n",
    "\n",
    "response = openai.chat.completions.create(model=model_name, messages=messages)\n",
    "answer = response.choices[0].message.content\n",
    "\n",
    "display(Markdown(answer))\n",
    "competitors.append(model_name)\n",
    "answers.append(answer)"
   ]
  },
  {
   "cell_type": "code",
   "execution_count": 12,
   "metadata": {},
   "outputs": [
    {
     "ename": "TypeError",
     "evalue": "\"Could not resolve authentication method. Expected either api_key or auth_token to be set. Or for one of the `X-Api-Key` or `Authorization` headers to be explicitly omitted\"",
     "output_type": "error",
     "traceback": [
      "\u001b[31m---------------------------------------------------------------------------\u001b[39m",
      "\u001b[31mTypeError\u001b[39m                                 Traceback (most recent call last)",
      "\u001b[36mCell\u001b[39m\u001b[36m \u001b[39m\u001b[32mIn[12]\u001b[39m\u001b[32m, line 6\u001b[39m\n\u001b[32m      3\u001b[39m model_name = \u001b[33m\"\u001b[39m\u001b[33mclaude-3-7-sonnet-latest\u001b[39m\u001b[33m\"\u001b[39m\n\u001b[32m      5\u001b[39m claude = Anthropic()\n\u001b[32m----> \u001b[39m\u001b[32m6\u001b[39m response = \u001b[43mclaude\u001b[49m\u001b[43m.\u001b[49m\u001b[43mmessages\u001b[49m\u001b[43m.\u001b[49m\u001b[43mcreate\u001b[49m\u001b[43m(\u001b[49m\u001b[43mmodel\u001b[49m\u001b[43m=\u001b[49m\u001b[43mmodel_name\u001b[49m\u001b[43m,\u001b[49m\u001b[43m \u001b[49m\u001b[43mmessages\u001b[49m\u001b[43m=\u001b[49m\u001b[43mmessages\u001b[49m\u001b[43m,\u001b[49m\u001b[43m \u001b[49m\u001b[43mmax_tokens\u001b[49m\u001b[43m=\u001b[49m\u001b[32;43m1000\u001b[39;49m\u001b[43m)\u001b[49m\n\u001b[32m      7\u001b[39m answer = response.content[\u001b[32m0\u001b[39m].text\n\u001b[32m      9\u001b[39m display(Markdown(answer))\n",
      "\u001b[36mFile \u001b[39m\u001b[32mc:\\Users\\Ajay Manwani\\Projects_Coding\\agentic_ai_ed\\agents-ajay\\.venv\\Lib\\site-packages\\anthropic\\_utils\\_utils.py:283\u001b[39m, in \u001b[36mrequired_args.<locals>.inner.<locals>.wrapper\u001b[39m\u001b[34m(*args, **kwargs)\u001b[39m\n\u001b[32m    281\u001b[39m             msg = \u001b[33mf\u001b[39m\u001b[33m\"\u001b[39m\u001b[33mMissing required argument: \u001b[39m\u001b[38;5;132;01m{\u001b[39;00mquote(missing[\u001b[32m0\u001b[39m])\u001b[38;5;132;01m}\u001b[39;00m\u001b[33m\"\u001b[39m\n\u001b[32m    282\u001b[39m     \u001b[38;5;28;01mraise\u001b[39;00m \u001b[38;5;167;01mTypeError\u001b[39;00m(msg)\n\u001b[32m--> \u001b[39m\u001b[32m283\u001b[39m \u001b[38;5;28;01mreturn\u001b[39;00m \u001b[43mfunc\u001b[49m\u001b[43m(\u001b[49m\u001b[43m*\u001b[49m\u001b[43margs\u001b[49m\u001b[43m,\u001b[49m\u001b[43m \u001b[49m\u001b[43m*\u001b[49m\u001b[43m*\u001b[49m\u001b[43mkwargs\u001b[49m\u001b[43m)\u001b[49m\n",
      "\u001b[36mFile \u001b[39m\u001b[32mc:\\Users\\Ajay Manwani\\Projects_Coding\\agentic_ai_ed\\agents-ajay\\.venv\\Lib\\site-packages\\anthropic\\resources\\messages\\messages.py:978\u001b[39m, in \u001b[36mMessages.create\u001b[39m\u001b[34m(self, max_tokens, messages, model, metadata, service_tier, stop_sequences, stream, system, temperature, thinking, tool_choice, tools, top_k, top_p, extra_headers, extra_query, extra_body, timeout)\u001b[39m\n\u001b[32m    971\u001b[39m \u001b[38;5;28;01mif\u001b[39;00m model \u001b[38;5;129;01min\u001b[39;00m DEPRECATED_MODELS:\n\u001b[32m    972\u001b[39m     warnings.warn(\n\u001b[32m    973\u001b[39m         \u001b[33mf\u001b[39m\u001b[33m\"\u001b[39m\u001b[33mThe model \u001b[39m\u001b[33m'\u001b[39m\u001b[38;5;132;01m{\u001b[39;00mmodel\u001b[38;5;132;01m}\u001b[39;00m\u001b[33m'\u001b[39m\u001b[33m is deprecated and will reach end-of-life on \u001b[39m\u001b[38;5;132;01m{\u001b[39;00mDEPRECATED_MODELS[model]\u001b[38;5;132;01m}\u001b[39;00m\u001b[33m.\u001b[39m\u001b[38;5;130;01m\\n\u001b[39;00m\u001b[33mPlease migrate to a newer model. Visit https://docs.anthropic.com/en/docs/resources/model-deprecations for more information.\u001b[39m\u001b[33m\"\u001b[39m,\n\u001b[32m    974\u001b[39m         \u001b[38;5;167;01mDeprecationWarning\u001b[39;00m,\n\u001b[32m    975\u001b[39m         stacklevel=\u001b[32m3\u001b[39m,\n\u001b[32m    976\u001b[39m     )\n\u001b[32m--> \u001b[39m\u001b[32m978\u001b[39m \u001b[38;5;28;01mreturn\u001b[39;00m \u001b[38;5;28;43mself\u001b[39;49m\u001b[43m.\u001b[49m\u001b[43m_post\u001b[49m\u001b[43m(\u001b[49m\n\u001b[32m    979\u001b[39m \u001b[43m    \u001b[49m\u001b[33;43m\"\u001b[39;49m\u001b[33;43m/v1/messages\u001b[39;49m\u001b[33;43m\"\u001b[39;49m\u001b[43m,\u001b[49m\n\u001b[32m    980\u001b[39m \u001b[43m    \u001b[49m\u001b[43mbody\u001b[49m\u001b[43m=\u001b[49m\u001b[43mmaybe_transform\u001b[49m\u001b[43m(\u001b[49m\n\u001b[32m    981\u001b[39m \u001b[43m        \u001b[49m\u001b[43m{\u001b[49m\n\u001b[32m    982\u001b[39m \u001b[43m            \u001b[49m\u001b[33;43m\"\u001b[39;49m\u001b[33;43mmax_tokens\u001b[39;49m\u001b[33;43m\"\u001b[39;49m\u001b[43m:\u001b[49m\u001b[43m \u001b[49m\u001b[43mmax_tokens\u001b[49m\u001b[43m,\u001b[49m\n\u001b[32m    983\u001b[39m \u001b[43m            \u001b[49m\u001b[33;43m\"\u001b[39;49m\u001b[33;43mmessages\u001b[39;49m\u001b[33;43m\"\u001b[39;49m\u001b[43m:\u001b[49m\u001b[43m \u001b[49m\u001b[43mmessages\u001b[49m\u001b[43m,\u001b[49m\n\u001b[32m    984\u001b[39m \u001b[43m            \u001b[49m\u001b[33;43m\"\u001b[39;49m\u001b[33;43mmodel\u001b[39;49m\u001b[33;43m\"\u001b[39;49m\u001b[43m:\u001b[49m\u001b[43m \u001b[49m\u001b[43mmodel\u001b[49m\u001b[43m,\u001b[49m\n\u001b[32m    985\u001b[39m \u001b[43m            \u001b[49m\u001b[33;43m\"\u001b[39;49m\u001b[33;43mmetadata\u001b[39;49m\u001b[33;43m\"\u001b[39;49m\u001b[43m:\u001b[49m\u001b[43m \u001b[49m\u001b[43mmetadata\u001b[49m\u001b[43m,\u001b[49m\n\u001b[32m    986\u001b[39m \u001b[43m            \u001b[49m\u001b[33;43m\"\u001b[39;49m\u001b[33;43mservice_tier\u001b[39;49m\u001b[33;43m\"\u001b[39;49m\u001b[43m:\u001b[49m\u001b[43m \u001b[49m\u001b[43mservice_tier\u001b[49m\u001b[43m,\u001b[49m\n\u001b[32m    987\u001b[39m \u001b[43m            \u001b[49m\u001b[33;43m\"\u001b[39;49m\u001b[33;43mstop_sequences\u001b[39;49m\u001b[33;43m\"\u001b[39;49m\u001b[43m:\u001b[49m\u001b[43m \u001b[49m\u001b[43mstop_sequences\u001b[49m\u001b[43m,\u001b[49m\n\u001b[32m    988\u001b[39m \u001b[43m            \u001b[49m\u001b[33;43m\"\u001b[39;49m\u001b[33;43mstream\u001b[39;49m\u001b[33;43m\"\u001b[39;49m\u001b[43m:\u001b[49m\u001b[43m \u001b[49m\u001b[43mstream\u001b[49m\u001b[43m,\u001b[49m\n\u001b[32m    989\u001b[39m \u001b[43m            \u001b[49m\u001b[33;43m\"\u001b[39;49m\u001b[33;43msystem\u001b[39;49m\u001b[33;43m\"\u001b[39;49m\u001b[43m:\u001b[49m\u001b[43m \u001b[49m\u001b[43msystem\u001b[49m\u001b[43m,\u001b[49m\n\u001b[32m    990\u001b[39m \u001b[43m            \u001b[49m\u001b[33;43m\"\u001b[39;49m\u001b[33;43mtemperature\u001b[39;49m\u001b[33;43m\"\u001b[39;49m\u001b[43m:\u001b[49m\u001b[43m \u001b[49m\u001b[43mtemperature\u001b[49m\u001b[43m,\u001b[49m\n\u001b[32m    991\u001b[39m \u001b[43m            \u001b[49m\u001b[33;43m\"\u001b[39;49m\u001b[33;43mthinking\u001b[39;49m\u001b[33;43m\"\u001b[39;49m\u001b[43m:\u001b[49m\u001b[43m \u001b[49m\u001b[43mthinking\u001b[49m\u001b[43m,\u001b[49m\n\u001b[32m    992\u001b[39m \u001b[43m            \u001b[49m\u001b[33;43m\"\u001b[39;49m\u001b[33;43mtool_choice\u001b[39;49m\u001b[33;43m\"\u001b[39;49m\u001b[43m:\u001b[49m\u001b[43m \u001b[49m\u001b[43mtool_choice\u001b[49m\u001b[43m,\u001b[49m\n\u001b[32m    993\u001b[39m \u001b[43m            \u001b[49m\u001b[33;43m\"\u001b[39;49m\u001b[33;43mtools\u001b[39;49m\u001b[33;43m\"\u001b[39;49m\u001b[43m:\u001b[49m\u001b[43m \u001b[49m\u001b[43mtools\u001b[49m\u001b[43m,\u001b[49m\n\u001b[32m    994\u001b[39m \u001b[43m            \u001b[49m\u001b[33;43m\"\u001b[39;49m\u001b[33;43mtop_k\u001b[39;49m\u001b[33;43m\"\u001b[39;49m\u001b[43m:\u001b[49m\u001b[43m \u001b[49m\u001b[43mtop_k\u001b[49m\u001b[43m,\u001b[49m\n\u001b[32m    995\u001b[39m \u001b[43m            \u001b[49m\u001b[33;43m\"\u001b[39;49m\u001b[33;43mtop_p\u001b[39;49m\u001b[33;43m\"\u001b[39;49m\u001b[43m:\u001b[49m\u001b[43m \u001b[49m\u001b[43mtop_p\u001b[49m\u001b[43m,\u001b[49m\n\u001b[32m    996\u001b[39m \u001b[43m        \u001b[49m\u001b[43m}\u001b[49m\u001b[43m,\u001b[49m\n\u001b[32m    997\u001b[39m \u001b[43m        \u001b[49m\u001b[43mmessage_create_params\u001b[49m\u001b[43m.\u001b[49m\u001b[43mMessageCreateParamsStreaming\u001b[49m\n\u001b[32m    998\u001b[39m \u001b[43m        \u001b[49m\u001b[38;5;28;43;01mif\u001b[39;49;00m\u001b[43m \u001b[49m\u001b[43mstream\u001b[49m\n\u001b[32m    999\u001b[39m \u001b[43m        \u001b[49m\u001b[38;5;28;43;01melse\u001b[39;49;00m\u001b[43m \u001b[49m\u001b[43mmessage_create_params\u001b[49m\u001b[43m.\u001b[49m\u001b[43mMessageCreateParamsNonStreaming\u001b[49m\u001b[43m,\u001b[49m\n\u001b[32m   1000\u001b[39m \u001b[43m    \u001b[49m\u001b[43m)\u001b[49m\u001b[43m,\u001b[49m\n\u001b[32m   1001\u001b[39m \u001b[43m    \u001b[49m\u001b[43moptions\u001b[49m\u001b[43m=\u001b[49m\u001b[43mmake_request_options\u001b[49m\u001b[43m(\u001b[49m\n\u001b[32m   1002\u001b[39m \u001b[43m        \u001b[49m\u001b[43mextra_headers\u001b[49m\u001b[43m=\u001b[49m\u001b[43mextra_headers\u001b[49m\u001b[43m,\u001b[49m\u001b[43m \u001b[49m\u001b[43mextra_query\u001b[49m\u001b[43m=\u001b[49m\u001b[43mextra_query\u001b[49m\u001b[43m,\u001b[49m\u001b[43m \u001b[49m\u001b[43mextra_body\u001b[49m\u001b[43m=\u001b[49m\u001b[43mextra_body\u001b[49m\u001b[43m,\u001b[49m\u001b[43m \u001b[49m\u001b[43mtimeout\u001b[49m\u001b[43m=\u001b[49m\u001b[43mtimeout\u001b[49m\n\u001b[32m   1003\u001b[39m \u001b[43m    \u001b[49m\u001b[43m)\u001b[49m\u001b[43m,\u001b[49m\n\u001b[32m   1004\u001b[39m \u001b[43m    \u001b[49m\u001b[43mcast_to\u001b[49m\u001b[43m=\u001b[49m\u001b[43mMessage\u001b[49m\u001b[43m,\u001b[49m\n\u001b[32m   1005\u001b[39m \u001b[43m    \u001b[49m\u001b[43mstream\u001b[49m\u001b[43m=\u001b[49m\u001b[43mstream\u001b[49m\u001b[43m \u001b[49m\u001b[38;5;129;43;01mor\u001b[39;49;00m\u001b[43m \u001b[49m\u001b[38;5;28;43;01mFalse\u001b[39;49;00m\u001b[43m,\u001b[49m\n\u001b[32m   1006\u001b[39m \u001b[43m    \u001b[49m\u001b[43mstream_cls\u001b[49m\u001b[43m=\u001b[49m\u001b[43mStream\u001b[49m\u001b[43m[\u001b[49m\u001b[43mRawMessageStreamEvent\u001b[49m\u001b[43m]\u001b[49m\u001b[43m,\u001b[49m\n\u001b[32m   1007\u001b[39m \u001b[43m\u001b[49m\u001b[43m)\u001b[49m\n",
      "\u001b[36mFile \u001b[39m\u001b[32mc:\\Users\\Ajay Manwani\\Projects_Coding\\agentic_ai_ed\\agents-ajay\\.venv\\Lib\\site-packages\\anthropic\\_base_client.py:1314\u001b[39m, in \u001b[36mSyncAPIClient.post\u001b[39m\u001b[34m(self, path, cast_to, body, options, files, stream, stream_cls)\u001b[39m\n\u001b[32m   1300\u001b[39m \u001b[38;5;28;01mdef\u001b[39;00m\u001b[38;5;250m \u001b[39m\u001b[34mpost\u001b[39m(\n\u001b[32m   1301\u001b[39m     \u001b[38;5;28mself\u001b[39m,\n\u001b[32m   1302\u001b[39m     path: \u001b[38;5;28mstr\u001b[39m,\n\u001b[32m   (...)\u001b[39m\u001b[32m   1309\u001b[39m     stream_cls: \u001b[38;5;28mtype\u001b[39m[_StreamT] | \u001b[38;5;28;01mNone\u001b[39;00m = \u001b[38;5;28;01mNone\u001b[39;00m,\n\u001b[32m   1310\u001b[39m ) -> ResponseT | _StreamT:\n\u001b[32m   1311\u001b[39m     opts = FinalRequestOptions.construct(\n\u001b[32m   1312\u001b[39m         method=\u001b[33m\"\u001b[39m\u001b[33mpost\u001b[39m\u001b[33m\"\u001b[39m, url=path, json_data=body, files=to_httpx_files(files), **options\n\u001b[32m   1313\u001b[39m     )\n\u001b[32m-> \u001b[39m\u001b[32m1314\u001b[39m     \u001b[38;5;28;01mreturn\u001b[39;00m cast(ResponseT, \u001b[38;5;28;43mself\u001b[39;49m\u001b[43m.\u001b[49m\u001b[43mrequest\u001b[49m\u001b[43m(\u001b[49m\u001b[43mcast_to\u001b[49m\u001b[43m,\u001b[49m\u001b[43m \u001b[49m\u001b[43mopts\u001b[49m\u001b[43m,\u001b[49m\u001b[43m \u001b[49m\u001b[43mstream\u001b[49m\u001b[43m=\u001b[49m\u001b[43mstream\u001b[49m\u001b[43m,\u001b[49m\u001b[43m \u001b[49m\u001b[43mstream_cls\u001b[49m\u001b[43m=\u001b[49m\u001b[43mstream_cls\u001b[49m\u001b[43m)\u001b[49m)\n",
      "\u001b[36mFile \u001b[39m\u001b[32mc:\\Users\\Ajay Manwani\\Projects_Coding\\agentic_ai_ed\\agents-ajay\\.venv\\Lib\\site-packages\\anthropic\\_base_client.py:1023\u001b[39m, in \u001b[36mSyncAPIClient.request\u001b[39m\u001b[34m(self, cast_to, options, stream, stream_cls)\u001b[39m\n\u001b[32m   1020\u001b[39m options = \u001b[38;5;28mself\u001b[39m._prepare_options(options)\n\u001b[32m   1022\u001b[39m remaining_retries = max_retries - retries_taken\n\u001b[32m-> \u001b[39m\u001b[32m1023\u001b[39m request = \u001b[38;5;28;43mself\u001b[39;49m\u001b[43m.\u001b[49m\u001b[43m_build_request\u001b[49m\u001b[43m(\u001b[49m\u001b[43moptions\u001b[49m\u001b[43m,\u001b[49m\u001b[43m \u001b[49m\u001b[43mretries_taken\u001b[49m\u001b[43m=\u001b[49m\u001b[43mretries_taken\u001b[49m\u001b[43m)\u001b[49m\n\u001b[32m   1024\u001b[39m \u001b[38;5;28mself\u001b[39m._prepare_request(request)\n\u001b[32m   1026\u001b[39m kwargs: HttpxSendArgs = {}\n",
      "\u001b[36mFile \u001b[39m\u001b[32mc:\\Users\\Ajay Manwani\\Projects_Coding\\agentic_ai_ed\\agents-ajay\\.venv\\Lib\\site-packages\\anthropic\\_base_client.py:506\u001b[39m, in \u001b[36mBaseClient._build_request\u001b[39m\u001b[34m(self, options, retries_taken)\u001b[39m\n\u001b[32m    503\u001b[39m     \u001b[38;5;28;01melse\u001b[39;00m:\n\u001b[32m    504\u001b[39m         \u001b[38;5;28;01mraise\u001b[39;00m \u001b[38;5;167;01mRuntimeError\u001b[39;00m(\u001b[33mf\u001b[39m\u001b[33m\"\u001b[39m\u001b[33mUnexpected JSON data type, \u001b[39m\u001b[38;5;132;01m{\u001b[39;00m\u001b[38;5;28mtype\u001b[39m(json_data)\u001b[38;5;132;01m}\u001b[39;00m\u001b[33m, cannot merge with `extra_body`\u001b[39m\u001b[33m\"\u001b[39m)\n\u001b[32m--> \u001b[39m\u001b[32m506\u001b[39m headers = \u001b[38;5;28;43mself\u001b[39;49m\u001b[43m.\u001b[49m\u001b[43m_build_headers\u001b[49m\u001b[43m(\u001b[49m\u001b[43moptions\u001b[49m\u001b[43m,\u001b[49m\u001b[43m \u001b[49m\u001b[43mretries_taken\u001b[49m\u001b[43m=\u001b[49m\u001b[43mretries_taken\u001b[49m\u001b[43m)\u001b[49m\n\u001b[32m    507\u001b[39m params = _merge_mappings(\u001b[38;5;28mself\u001b[39m.default_query, options.params)\n\u001b[32m    508\u001b[39m content_type = headers.get(\u001b[33m\"\u001b[39m\u001b[33mContent-Type\u001b[39m\u001b[33m\"\u001b[39m)\n",
      "\u001b[36mFile \u001b[39m\u001b[32mc:\\Users\\Ajay Manwani\\Projects_Coding\\agentic_ai_ed\\agents-ajay\\.venv\\Lib\\site-packages\\anthropic\\_base_client.py:447\u001b[39m, in \u001b[36mBaseClient._build_headers\u001b[39m\u001b[34m(self, options, retries_taken)\u001b[39m\n\u001b[32m    437\u001b[39m custom_headers = options.headers \u001b[38;5;129;01mor\u001b[39;00m {}\n\u001b[32m    438\u001b[39m headers_dict = _merge_mappings(\n\u001b[32m    439\u001b[39m     {\n\u001b[32m    440\u001b[39m         \u001b[33m\"\u001b[39m\u001b[33mx-stainless-timeout\u001b[39m\u001b[33m\"\u001b[39m: \u001b[38;5;28mstr\u001b[39m(options.timeout.read)\n\u001b[32m   (...)\u001b[39m\u001b[32m    445\u001b[39m     custom_headers,\n\u001b[32m    446\u001b[39m )\n\u001b[32m--> \u001b[39m\u001b[32m447\u001b[39m \u001b[38;5;28;43mself\u001b[39;49m\u001b[43m.\u001b[49m\u001b[43m_validate_headers\u001b[49m\u001b[43m(\u001b[49m\u001b[43mheaders_dict\u001b[49m\u001b[43m,\u001b[49m\u001b[43m \u001b[49m\u001b[43mcustom_headers\u001b[49m\u001b[43m)\u001b[49m\n\u001b[32m    449\u001b[39m \u001b[38;5;66;03m# headers are case-insensitive while dictionaries are not.\u001b[39;00m\n\u001b[32m    450\u001b[39m headers = httpx.Headers(headers_dict)\n",
      "\u001b[36mFile \u001b[39m\u001b[32mc:\\Users\\Ajay Manwani\\Projects_Coding\\agentic_ai_ed\\agents-ajay\\.venv\\Lib\\site-packages\\anthropic\\_client.py:196\u001b[39m, in \u001b[36mAnthropic._validate_headers\u001b[39m\u001b[34m(self, headers, custom_headers)\u001b[39m\n\u001b[32m    193\u001b[39m \u001b[38;5;28;01mif\u001b[39;00m \u001b[38;5;28misinstance\u001b[39m(custom_headers.get(\u001b[33m\"\u001b[39m\u001b[33mAuthorization\u001b[39m\u001b[33m\"\u001b[39m), Omit):\n\u001b[32m    194\u001b[39m     \u001b[38;5;28;01mreturn\u001b[39;00m\n\u001b[32m--> \u001b[39m\u001b[32m196\u001b[39m \u001b[38;5;28;01mraise\u001b[39;00m \u001b[38;5;167;01mTypeError\u001b[39;00m(\n\u001b[32m    197\u001b[39m     \u001b[33m'\u001b[39m\u001b[33m\"\u001b[39m\u001b[33mCould not resolve authentication method. Expected either api_key or auth_token to be set. Or for one of the `X-Api-Key` or `Authorization` headers to be explicitly omitted\u001b[39m\u001b[33m\"\u001b[39m\u001b[33m'\u001b[39m\n\u001b[32m    198\u001b[39m )\n",
      "\u001b[31mTypeError\u001b[39m: \"Could not resolve authentication method. Expected either api_key or auth_token to be set. Or for one of the `X-Api-Key` or `Authorization` headers to be explicitly omitted\""
     ]
    }
   ],
   "source": [
    "# Anthropic has a slightly different API, and Max Tokens is required\n",
    "\n",
    "model_name = \"claude-3-7-sonnet-latest\"\n",
    "\n",
    "claude = Anthropic()\n",
    "response = claude.messages.create(model=model_name, messages=messages, max_tokens=1000)\n",
    "answer = response.content[0].text\n",
    "\n",
    "display(Markdown(answer))\n",
    "competitors.append(model_name)\n",
    "answers.append(answer)"
   ]
  },
  {
   "cell_type": "code",
   "execution_count": null,
   "metadata": {},
   "outputs": [
    {
     "data": {
      "text/markdown": [
       "Okay, this is a challenging and thought-provoking question. If I were to design an ethical system based on a single philosophical principle, I would choose **\"Flourishing\" (or Eudaimonia)**.\n",
       "\n",
       "Here's the rationale, implementation, and potential conflicts:\n",
       "\n",
       "**The Guiding Principle: Flourishing (Eudaimonia)**\n",
       "\n",
       "*   **Definition:**  Flourishing, derived from Aristotle's concept of Eudaimonia, goes beyond mere happiness or pleasure.  It represents a state of living well and doing well, realizing one's potential as a human being, and living a virtuous, meaningful, and purposeful life. It includes aspects like personal growth, strong relationships, contributing to society, intellectual development, emotional well-being, and ethical behavior. The emphasis is on developing one's capabilities to their fullest potential within a community.\n",
       "\n",
       "*   **Why this principle?**  Flourishing is appealing because it focuses on what is good for the individual and the collective, acknowledging the importance of both personal development and social responsibility. It is not prescriptive in the sense of dictating specific actions but rather offers a direction or aim for human life.\n",
       "\n",
       "**Implementation in Diverse Cultural Contexts**\n",
       "\n",
       "Implementing a \"Flourishing\"-based ethical system across diverse cultures requires a nuanced and adaptable approach, recognizing that the *expression* of flourishing will vary significantly across different societies:\n",
       "\n",
       "1.  **Core Values Framework:** Establish a framework of core values that are generally considered essential for human flourishing. This framework should be broad and adaptable, including concepts such as:\n",
       "\n",
       "    *   **Respect for persons:** Recognizing the inherent dignity and worth of every human being.\n",
       "    *   **Justice and Fairness:** Ensuring equitable treatment and opportunity for all.\n",
       "    *   **Compassion and Empathy:**  Understanding and responding to the suffering of others.\n",
       "    *   **Personal Responsibility:** Acknowledging one's obligations to oneself and to society.\n",
       "    *   **Integrity and Honesty:**  Maintaining truthfulness and moral uprightness.\n",
       "    *   **Knowledge and Wisdom:**  Pursuing understanding and learning.\n",
       "    *   **Community and Social Connection:** Fostering strong relationships and social cohesion.\n",
       "    *   **Environmental Stewardship:**  Protecting the natural world for future generations.\n",
       "    *   **Safety and Security:** Ensuring freedom from physical and psychological harm.\n",
       "2.  **Contextual Interpretation:** Each community or culture would then interpret these core values within its own unique historical, social, and cultural context.  This is crucial because what constitutes \"flourishing\" can differ significantly based on cultural norms, religious beliefs, and societal structures.  For example:\n",
       "\n",
       "    *   **Collectivist Cultures:** Flourishing might be more heavily weighted toward contributing to the well-being of the group or family.  Personal ambition might be tempered by the needs of the community.\n",
       "    *   **Individualistic Cultures:** Flourishing might prioritize individual achievement and self-expression.\n",
       "    *   **Religious Cultures:** Flourishing might be deeply intertwined with spiritual practices and adherence to religious doctrines.\n",
       "3.  **Dialogue and Consensus Building:** Implementing such a system would require ongoing dialogue and consensus-building within each community.  This could involve:\n",
       "\n",
       "    *   **Community Forums:**  Organizing regular discussions to explore the meaning of flourishing in the local context.\n",
       "    *   **Educational Programs:**  Developing educational materials that promote understanding of the core values and their relevance to daily life.\n",
       "    *   **Leadership Training:**  Equipping community leaders with the skills to facilitate ethical decision-making based on the principles of flourishing.\n",
       "4.  **Emphasis on Education and Virtue Development:**  The focus should be on educating individuals about the meaning of flourishing and providing opportunities for them to cultivate the virtues and skills necessary to live a flourishing life.  This could include:\n",
       "\n",
       "    *   **Ethical Education in Schools:**  Incorporating ethics into the curriculum at all levels of education.\n",
       "    *   **Mentorship Programs:**  Connecting young people with mentors who can model ethical behavior and provide guidance.\n",
       "    *   **Community Service Opportunities:**  Providing opportunities for individuals to contribute to their communities and develop a sense of social responsibility.\n",
       "5.  **Dynamic Adaptation:**  Recognize that the meaning of flourishing is not static and may evolve over time.  The system should be flexible and adaptable to changing social and cultural conditions.\n",
       "\n",
       "**Potential Conflicts**\n",
       "\n",
       "Even with a well-intentioned and thoughtfully implemented \"Flourishing\"-based ethical system, several potential conflicts could arise:\n",
       "\n",
       "1.  **Conflicting Interpretations:**  Different groups within a society might have conflicting interpretations of what constitutes flourishing, leading to disagreements about ethical priorities. For example, one group might prioritize economic development, while another might prioritize environmental protection.\n",
       "2.  **Individual vs. Collective Needs:**  Conflicts might arise between the needs of the individual and the needs of the community.  For example, individual freedom might be restricted in order to protect public health or safety.\n",
       "3.  **Clash of Cultural Values:**  In multicultural societies, conflicts might arise between different cultural values related to flourishing. For example, traditional practices that are considered harmful by some might be seen as essential to cultural identity by others.\n",
       "4.  **Subjectivity and Measurement:**  Flourishing is a subjective concept, and it can be difficult to measure progress or success in achieving it.  This can lead to debates about how to allocate resources and prioritize policies.\n",
       "5.  **Power Dynamics:**  The implementation of a \"Flourishing\"-based system could be influenced by power dynamics within a society.  Dominant groups might impose their own interpretations of flourishing on marginalized groups.\n",
       "6.  **Conflicts between different aspect of flourishing:** For instance, the pursuit of knowledge and progress might come into conflict with maintaining strong community ties or respecting traditional values.\n",
       "7.  **The Problem of 'Moral Saints':** Over-emphasis on maximizing flourishing could lead to excessive demands on individuals, expecting them to constantly strive for self-improvement and altruistic actions, neglecting their own legitimate needs and desires.\n",
       "\n",
       "**Mitigating Conflicts**\n",
       "\n",
       "To mitigate these potential conflicts, it is essential to:\n",
       "\n",
       "*   **Promote open dialogue and mutual understanding.**\n",
       "*   **Develop fair and transparent decision-making processes.**\n",
       "*   **Protect the rights of marginalized groups.**\n",
       "*   **Embrace diversity and cultural pluralism.**\n",
       "*   **Continuously evaluate and adapt the system based on feedback and experience.**\n",
       "\n",
       "In conclusion, while \"Flourishing\" provides a powerful ethical framework, its implementation requires careful consideration of cultural context, ongoing dialogue, and a commitment to addressing potential conflicts in a fair and equitable manner. It requires a constant balancing act, navigating between individual and collective well-being, traditional values and modern aspirations, and the inherent subjectivity of the human experience. The process is as important as the outcome, emphasizing continuous learning and adaptation in the pursuit of a more flourishing world for all.\n"
      ],
      "text/plain": [
       "<IPython.core.display.Markdown object>"
      ]
     },
     "metadata": {},
     "output_type": "display_data"
    }
   ],
   "source": [
    "gemini = OpenAI(api_key=google_api_key, base_url=\"https://generativelanguage.googleapis.com/v1beta/openai/\")\n",
    "model_name = \"gemini-2.0-flash\"\n",
    "\n",
    "response = gemini.chat.completions.create(model=model_name, messages=messages)\n",
    "answer = response.choices[0].message.content\n",
    "\n",
    "display(Markdown(answer))\n",
    "competitors.append(model_name)\n",
    "answers.append(answer)"
   ]
  },
  {
   "cell_type": "code",
   "execution_count": null,
   "metadata": {},
   "outputs": [],
   "source": [
    "deepseek = OpenAI(api_key=deepseek_api_key, base_url=\"https://api.deepseek.com/v1\")\n",
    "model_name = \"deepseek-chat\"\n",
    "\n",
    "response = deepseek.chat.completions.create(model=model_name, messages=messages)\n",
    "answer = response.choices[0].message.content\n",
    "\n",
    "display(Markdown(answer))\n",
    "competitors.append(model_name)\n",
    "answers.append(answer)"
   ]
  },
  {
   "cell_type": "code",
   "execution_count": null,
   "metadata": {},
   "outputs": [],
   "source": [
    "groq = OpenAI(api_key=groq_api_key, base_url=\"https://api.groq.com/openai/v1\")\n",
    "model_name = \"llama-3.3-70b-versatile\"\n",
    "\n",
    "response = groq.chat.completions.create(model=model_name, messages=messages)\n",
    "answer = response.choices[0].message.content\n",
    "\n",
    "display(Markdown(answer))\n",
    "competitors.append(model_name)\n",
    "answers.append(answer)\n"
   ]
  },
  {
   "cell_type": "markdown",
   "metadata": {},
   "source": [
    "## For the next cell, we will use Ollama\n",
    "\n",
    "Ollama runs a local web service that gives an OpenAI compatible endpoint,  \n",
    "and runs models locally using high performance C++ code.\n",
    "\n",
    "If you don't have Ollama, install it here by visiting https://ollama.com then pressing Download and following the instructions.\n",
    "\n",
    "After it's installed, you should be able to visit here: http://localhost:11434 and see the message \"Ollama is running\"\n",
    "\n",
    "You might need to restart Cursor (and maybe reboot). Then open a Terminal (control+\\`) and run `ollama serve`\n",
    "\n",
    "Useful Ollama commands (run these in the terminal, or with an exclamation mark in this notebook):\n",
    "\n",
    "`ollama pull <model_name>` downloads a model locally  \n",
    "`ollama ls` lists all the models you've downloaded  \n",
    "`ollama rm <model_name>` deletes the specified model from your downloads"
   ]
  },
  {
   "cell_type": "markdown",
   "metadata": {},
   "source": [
    "<table style=\"margin: 0; text-align: left; width:100%\">\n",
    "    <tr>\n",
    "        <td style=\"width: 150px; height: 150px; vertical-align: middle;\">\n",
    "            <img src=\"../assets/stop.png\" width=\"150\" height=\"150\" style=\"display: block;\" />\n",
    "        </td>\n",
    "        <td>\n",
    "            <h2 style=\"color:#ff7800;\">Super important - ignore me at your peril!</h2>\n",
    "            <span style=\"color:#ff7800;\">The model called <b>llama3.3</b> is FAR too large for home computers - it's not intended for personal computing and will consume all your resources! Stick with the nicely sized <b>llama3.2</b> or <b>llama3.2:1b</b> and if you want larger, try llama3.1 or smaller variants of Qwen, Gemma, Phi or DeepSeek. See the <A href=\"https://ollama.com/models\">the Ollama models page</a> for a full list of models and sizes.\n",
    "            </span>\n",
    "        </td>\n",
    "    </tr>\n",
    "</table>"
   ]
  },
  {
   "cell_type": "code",
   "execution_count": 13,
   "metadata": {},
   "outputs": [
    {
     "name": "stderr",
     "output_type": "stream",
     "text": [
      "\u001b[?2026h\u001b[?25l\u001b[1Gpulling manifest ⠋ \u001b[K\u001b[?25h\u001b[?2026l\u001b[?2026h\u001b[?25l\u001b[1Gpulling manifest ⠙ \u001b[K\u001b[?25h\u001b[?2026l\u001b[?2026h\u001b[?25l\u001b[1Gpulling manifest ⠹ \u001b[K\u001b[?25h\u001b[?2026l\u001b[?2026h\u001b[?25l\u001b[1Gpulling manifest ⠸ \u001b[K\u001b[?25h\u001b[?2026l\u001b[?2026h\u001b[?25l\u001b[1Gpulling manifest ⠼ \u001b[K\u001b[?25h\u001b[?2026l\u001b[?2026h\u001b[?25l\u001b[1Gpulling manifest ⠴ \u001b[K\u001b[?25h\u001b[?2026l\u001b[?2026h\u001b[?25l\u001b[1Gpulling manifest ⠦ \u001b[K\u001b[?25h\u001b[?2026l\u001b[?2026h\u001b[?25l\u001b[1Gpulling manifest ⠧ \u001b[K\u001b[?25h\u001b[?2026l\u001b[?2026h\u001b[?25l\u001b[1Gpulling manifest ⠇ \u001b[K\u001b[?25h\u001b[?2026l\u001b[?2026h\u001b[?25l\u001b[1Gpulling manifest \u001b[K\n",
      "pulling dde5aa3fc5ff: 100% ▕██████████████████▏ 2.0 GB                         \u001b[K\n",
      "pulling 966de95ca8a6: 100% ▕██████████████████▏ 1.4 KB                         \u001b[K\n",
      "pulling fcc5a6bec9da: 100% ▕██████████████████▏ 7.7 KB                         \u001b[K\n",
      "pulling a70ff7e570d9: 100% ▕██████████████████▏ 6.0 KB                         \u001b[K\n",
      "pulling 56bb8bd477a5: 100% ▕██████████████████▏   96 B                         \u001b[K\n",
      "pulling 34bb5ab01051: 100% ▕██████████████████▏  561 B                         \u001b[K\n",
      "verifying sha256 digest \u001b[K\n",
      "writing manifest \u001b[K\n",
      "success \u001b[K\u001b[?25h\u001b[?2026l\n"
     ]
    }
   ],
   "source": [
    "!ollama pull llama3.2"
   ]
  },
  {
   "cell_type": "code",
   "execution_count": 14,
   "metadata": {},
   "outputs": [
    {
     "data": {
      "text/markdown": [
       "When faced with a moral dilemma involving conflicting values, such as individual rights vs. the greater good, I'd employ the following steps to prioritize and resolve the issue:\n",
       "\n",
       "1.  Clear the context: Analyze the problem fully, gaining thorough insight into its components.\n",
       "2.  Identify the conflicting values: Determine which rights would be violated and how.\n",
       "3.  Evaluate the potential impact of my choice: Consider the consequences for both individual rights violations and large-scale collective well-being.\n",
       "\n",
       "Some common ethical frameworks to consider when addressing this challenge include:\n",
       "\n",
       "1.  Utilitarianism: Prioritizing the overall happiness or well-being of the greatest number of people.\n",
       "2.  Deontology: Prioritizing individual rights and moral duties, focusing on principles of ethics regardless of context.\n",
       "3.  Virtue Ethics: Evaluating character traits and developing virtues to guide decision-making.\n",
       "\n",
       "The ethical framework that guides my choices would depend on the situation and prioritize well-being over individual rights in prioritizing human life when deciding whether not to save as many people.\n",
       "\n",
       "However, I'd seek guidance from experts in ethics, philosophy, or law to ensure an impartial and informed approach."
      ],
      "text/plain": [
       "<IPython.core.display.Markdown object>"
      ]
     },
     "metadata": {},
     "output_type": "display_data"
    }
   ],
   "source": [
    "ollama = OpenAI(base_url='http://localhost:11434/v1', api_key='ollama')\n",
    "model_name = \"llama3.2\"\n",
    "\n",
    "response = ollama.chat.completions.create(model=model_name, messages=messages)\n",
    "answer = response.choices[0].message.content\n",
    "\n",
    "display(Markdown(answer))\n",
    "competitors.append(model_name)\n",
    "answers.append(answer)"
   ]
  },
  {
   "cell_type": "code",
   "execution_count": 20,
   "metadata": {},
   "outputs": [
    {
     "name": "stdout",
     "output_type": "stream",
     "text": [
      "['gemini-2.0-flash', 'llama3.2']\n",
      "['Okay, this is a challenging and thought-provoking question. If I were to design an ethical system based on a single philosophical principle, I would choose **\"Flourishing\" (or Eudaimonia)**.\\n\\nHere\\'s the rationale, implementation, and potential conflicts:\\n\\n**The Guiding Principle: Flourishing (Eudaimonia)**\\n\\n*   **Definition:**  Flourishing, derived from Aristotle\\'s concept of Eudaimonia, goes beyond mere happiness or pleasure.  It represents a state of living well and doing well, realizing one\\'s potential as a human being, and living a virtuous, meaningful, and purposeful life. It includes aspects like personal growth, strong relationships, contributing to society, intellectual development, emotional well-being, and ethical behavior. The emphasis is on developing one\\'s capabilities to their fullest potential within a community.\\n\\n*   **Why this principle?**  Flourishing is appealing because it focuses on what is good for the individual and the collective, acknowledging the importance of both personal development and social responsibility. It is not prescriptive in the sense of dictating specific actions but rather offers a direction or aim for human life.\\n\\n**Implementation in Diverse Cultural Contexts**\\n\\nImplementing a \"Flourishing\"-based ethical system across diverse cultures requires a nuanced and adaptable approach, recognizing that the *expression* of flourishing will vary significantly across different societies:\\n\\n1.  **Core Values Framework:** Establish a framework of core values that are generally considered essential for human flourishing. This framework should be broad and adaptable, including concepts such as:\\n\\n    *   **Respect for persons:** Recognizing the inherent dignity and worth of every human being.\\n    *   **Justice and Fairness:** Ensuring equitable treatment and opportunity for all.\\n    *   **Compassion and Empathy:**  Understanding and responding to the suffering of others.\\n    *   **Personal Responsibility:** Acknowledging one\\'s obligations to oneself and to society.\\n    *   **Integrity and Honesty:**  Maintaining truthfulness and moral uprightness.\\n    *   **Knowledge and Wisdom:**  Pursuing understanding and learning.\\n    *   **Community and Social Connection:** Fostering strong relationships and social cohesion.\\n    *   **Environmental Stewardship:**  Protecting the natural world for future generations.\\n    *   **Safety and Security:** Ensuring freedom from physical and psychological harm.\\n2.  **Contextual Interpretation:** Each community or culture would then interpret these core values within its own unique historical, social, and cultural context.  This is crucial because what constitutes \"flourishing\" can differ significantly based on cultural norms, religious beliefs, and societal structures.  For example:\\n\\n    *   **Collectivist Cultures:** Flourishing might be more heavily weighted toward contributing to the well-being of the group or family.  Personal ambition might be tempered by the needs of the community.\\n    *   **Individualistic Cultures:** Flourishing might prioritize individual achievement and self-expression.\\n    *   **Religious Cultures:** Flourishing might be deeply intertwined with spiritual practices and adherence to religious doctrines.\\n3.  **Dialogue and Consensus Building:** Implementing such a system would require ongoing dialogue and consensus-building within each community.  This could involve:\\n\\n    *   **Community Forums:**  Organizing regular discussions to explore the meaning of flourishing in the local context.\\n    *   **Educational Programs:**  Developing educational materials that promote understanding of the core values and their relevance to daily life.\\n    *   **Leadership Training:**  Equipping community leaders with the skills to facilitate ethical decision-making based on the principles of flourishing.\\n4.  **Emphasis on Education and Virtue Development:**  The focus should be on educating individuals about the meaning of flourishing and providing opportunities for them to cultivate the virtues and skills necessary to live a flourishing life.  This could include:\\n\\n    *   **Ethical Education in Schools:**  Incorporating ethics into the curriculum at all levels of education.\\n    *   **Mentorship Programs:**  Connecting young people with mentors who can model ethical behavior and provide guidance.\\n    *   **Community Service Opportunities:**  Providing opportunities for individuals to contribute to their communities and develop a sense of social responsibility.\\n5.  **Dynamic Adaptation:**  Recognize that the meaning of flourishing is not static and may evolve over time.  The system should be flexible and adaptable to changing social and cultural conditions.\\n\\n**Potential Conflicts**\\n\\nEven with a well-intentioned and thoughtfully implemented \"Flourishing\"-based ethical system, several potential conflicts could arise:\\n\\n1.  **Conflicting Interpretations:**  Different groups within a society might have conflicting interpretations of what constitutes flourishing, leading to disagreements about ethical priorities. For example, one group might prioritize economic development, while another might prioritize environmental protection.\\n2.  **Individual vs. Collective Needs:**  Conflicts might arise between the needs of the individual and the needs of the community.  For example, individual freedom might be restricted in order to protect public health or safety.\\n3.  **Clash of Cultural Values:**  In multicultural societies, conflicts might arise between different cultural values related to flourishing. For example, traditional practices that are considered harmful by some might be seen as essential to cultural identity by others.\\n4.  **Subjectivity and Measurement:**  Flourishing is a subjective concept, and it can be difficult to measure progress or success in achieving it.  This can lead to debates about how to allocate resources and prioritize policies.\\n5.  **Power Dynamics:**  The implementation of a \"Flourishing\"-based system could be influenced by power dynamics within a society.  Dominant groups might impose their own interpretations of flourishing on marginalized groups.\\n6.  **Conflicts between different aspect of flourishing:** For instance, the pursuit of knowledge and progress might come into conflict with maintaining strong community ties or respecting traditional values.\\n7.  **The Problem of \\'Moral Saints\\':** Over-emphasis on maximizing flourishing could lead to excessive demands on individuals, expecting them to constantly strive for self-improvement and altruistic actions, neglecting their own legitimate needs and desires.\\n\\n**Mitigating Conflicts**\\n\\nTo mitigate these potential conflicts, it is essential to:\\n\\n*   **Promote open dialogue and mutual understanding.**\\n*   **Develop fair and transparent decision-making processes.**\\n*   **Protect the rights of marginalized groups.**\\n*   **Embrace diversity and cultural pluralism.**\\n*   **Continuously evaluate and adapt the system based on feedback and experience.**\\n\\nIn conclusion, while \"Flourishing\" provides a powerful ethical framework, its implementation requires careful consideration of cultural context, ongoing dialogue, and a commitment to addressing potential conflicts in a fair and equitable manner. It requires a constant balancing act, navigating between individual and collective well-being, traditional values and modern aspirations, and the inherent subjectivity of the human experience. The process is as important as the outcome, emphasizing continuous learning and adaptation in the pursuit of a more flourishing world for all.\\n', 'If I could design an ethical system based on a single philosophical principle, I would choose \"The Principle of Care\" (Pareto), which states that \"happiness and flourishing are directly proportionate to the cultivation of care and understanding for the well-being of others.\"\\n\\nUnderstanding care as the foundation of ethical decision-making involves cultivating empathy, compassion, and kindness towards all individuals. This principle prioritizes human relationships, social responsibility, and sustainability.\\n\\n**Implementation:**\\n\\n1.  **Emphasis on Interdependence**: Design policies and programs that acknowledge the interconnectedness of human beings within ecosystems, economies, and societies. Encourage collaboration, mutual support, and collective well-being.\\n2.  **Inclusive and Empathetic Governance**: Establish governance systems where decision-makers prioritize understanding the needs and perspectives of diverse stakeholders. Foster a culture of active listening, empathy, and care for marginalized groups.\\n3.  **Education and Training**: Develop educational programs that focus on emotional intelligence, social-emotional learning, and interpersonal skill-building. Promote lifelong learning, self-awareness, and growth in personal relationships.\\n4.  **Community Engagement and Participation**: Encourage public participation in decision-making processes through inclusive civic engagement initiatives. Empower community-led projects and advocacy efforts to address local concerns and develop solutions that reflect the needs of marginalized populations.\\n5.  **Social Services and Support Systems**: Develop comprehensive social services, including mental health support networks, vocational training programs, and affordable housing initiatives, to help individuals and families care for one another.\\n6.  **Economic Systems Redefined**: Gradually shift towards cooperative economic models, employee ownership co-ops, and social entrepreneurship, prioritizing well-being over profit above all else.\\n7.  Develop language models designed with fairness that can effectively convey Pareto\\'s values, which helps address potential conflicts and raises awareness about the importance of care.\\n\\n**Potential Conflicts:**\\n\\n1.  **Cultural Divergence**: Applying a universal principle like The Principle of Care across diverse cultural contexts may lead to misunderstandings or tensions arising from differing social norms.\\n2.  **Conflicting Interests**: Balancing individual well-being with collective responsibilities, such as economic growth or personal desires, can be challenging and contentious.\\n3.']\n"
     ]
    }
   ],
   "source": [
    "# So where are we?\n",
    "\n",
    "print(competitors)\n",
    "print(answers)\n"
   ]
  },
  {
   "cell_type": "code",
   "execution_count": 21,
   "metadata": {},
   "outputs": [
    {
     "name": "stdout",
     "output_type": "stream",
     "text": [
      "Competitor: gemini-2.0-flash\n",
      "\n",
      "Okay, this is a challenging and thought-provoking question. If I were to design an ethical system based on a single philosophical principle, I would choose **\"Flourishing\" (or Eudaimonia)**.\n",
      "\n",
      "Here's the rationale, implementation, and potential conflicts:\n",
      "\n",
      "**The Guiding Principle: Flourishing (Eudaimonia)**\n",
      "\n",
      "*   **Definition:**  Flourishing, derived from Aristotle's concept of Eudaimonia, goes beyond mere happiness or pleasure.  It represents a state of living well and doing well, realizing one's potential as a human being, and living a virtuous, meaningful, and purposeful life. It includes aspects like personal growth, strong relationships, contributing to society, intellectual development, emotional well-being, and ethical behavior. The emphasis is on developing one's capabilities to their fullest potential within a community.\n",
      "\n",
      "*   **Why this principle?**  Flourishing is appealing because it focuses on what is good for the individual and the collective, acknowledging the importance of both personal development and social responsibility. It is not prescriptive in the sense of dictating specific actions but rather offers a direction or aim for human life.\n",
      "\n",
      "**Implementation in Diverse Cultural Contexts**\n",
      "\n",
      "Implementing a \"Flourishing\"-based ethical system across diverse cultures requires a nuanced and adaptable approach, recognizing that the *expression* of flourishing will vary significantly across different societies:\n",
      "\n",
      "1.  **Core Values Framework:** Establish a framework of core values that are generally considered essential for human flourishing. This framework should be broad and adaptable, including concepts such as:\n",
      "\n",
      "    *   **Respect for persons:** Recognizing the inherent dignity and worth of every human being.\n",
      "    *   **Justice and Fairness:** Ensuring equitable treatment and opportunity for all.\n",
      "    *   **Compassion and Empathy:**  Understanding and responding to the suffering of others.\n",
      "    *   **Personal Responsibility:** Acknowledging one's obligations to oneself and to society.\n",
      "    *   **Integrity and Honesty:**  Maintaining truthfulness and moral uprightness.\n",
      "    *   **Knowledge and Wisdom:**  Pursuing understanding and learning.\n",
      "    *   **Community and Social Connection:** Fostering strong relationships and social cohesion.\n",
      "    *   **Environmental Stewardship:**  Protecting the natural world for future generations.\n",
      "    *   **Safety and Security:** Ensuring freedom from physical and psychological harm.\n",
      "2.  **Contextual Interpretation:** Each community or culture would then interpret these core values within its own unique historical, social, and cultural context.  This is crucial because what constitutes \"flourishing\" can differ significantly based on cultural norms, religious beliefs, and societal structures.  For example:\n",
      "\n",
      "    *   **Collectivist Cultures:** Flourishing might be more heavily weighted toward contributing to the well-being of the group or family.  Personal ambition might be tempered by the needs of the community.\n",
      "    *   **Individualistic Cultures:** Flourishing might prioritize individual achievement and self-expression.\n",
      "    *   **Religious Cultures:** Flourishing might be deeply intertwined with spiritual practices and adherence to religious doctrines.\n",
      "3.  **Dialogue and Consensus Building:** Implementing such a system would require ongoing dialogue and consensus-building within each community.  This could involve:\n",
      "\n",
      "    *   **Community Forums:**  Organizing regular discussions to explore the meaning of flourishing in the local context.\n",
      "    *   **Educational Programs:**  Developing educational materials that promote understanding of the core values and their relevance to daily life.\n",
      "    *   **Leadership Training:**  Equipping community leaders with the skills to facilitate ethical decision-making based on the principles of flourishing.\n",
      "4.  **Emphasis on Education and Virtue Development:**  The focus should be on educating individuals about the meaning of flourishing and providing opportunities for them to cultivate the virtues and skills necessary to live a flourishing life.  This could include:\n",
      "\n",
      "    *   **Ethical Education in Schools:**  Incorporating ethics into the curriculum at all levels of education.\n",
      "    *   **Mentorship Programs:**  Connecting young people with mentors who can model ethical behavior and provide guidance.\n",
      "    *   **Community Service Opportunities:**  Providing opportunities for individuals to contribute to their communities and develop a sense of social responsibility.\n",
      "5.  **Dynamic Adaptation:**  Recognize that the meaning of flourishing is not static and may evolve over time.  The system should be flexible and adaptable to changing social and cultural conditions.\n",
      "\n",
      "**Potential Conflicts**\n",
      "\n",
      "Even with a well-intentioned and thoughtfully implemented \"Flourishing\"-based ethical system, several potential conflicts could arise:\n",
      "\n",
      "1.  **Conflicting Interpretations:**  Different groups within a society might have conflicting interpretations of what constitutes flourishing, leading to disagreements about ethical priorities. For example, one group might prioritize economic development, while another might prioritize environmental protection.\n",
      "2.  **Individual vs. Collective Needs:**  Conflicts might arise between the needs of the individual and the needs of the community.  For example, individual freedom might be restricted in order to protect public health or safety.\n",
      "3.  **Clash of Cultural Values:**  In multicultural societies, conflicts might arise between different cultural values related to flourishing. For example, traditional practices that are considered harmful by some might be seen as essential to cultural identity by others.\n",
      "4.  **Subjectivity and Measurement:**  Flourishing is a subjective concept, and it can be difficult to measure progress or success in achieving it.  This can lead to debates about how to allocate resources and prioritize policies.\n",
      "5.  **Power Dynamics:**  The implementation of a \"Flourishing\"-based system could be influenced by power dynamics within a society.  Dominant groups might impose their own interpretations of flourishing on marginalized groups.\n",
      "6.  **Conflicts between different aspect of flourishing:** For instance, the pursuit of knowledge and progress might come into conflict with maintaining strong community ties or respecting traditional values.\n",
      "7.  **The Problem of 'Moral Saints':** Over-emphasis on maximizing flourishing could lead to excessive demands on individuals, expecting them to constantly strive for self-improvement and altruistic actions, neglecting their own legitimate needs and desires.\n",
      "\n",
      "**Mitigating Conflicts**\n",
      "\n",
      "To mitigate these potential conflicts, it is essential to:\n",
      "\n",
      "*   **Promote open dialogue and mutual understanding.**\n",
      "*   **Develop fair and transparent decision-making processes.**\n",
      "*   **Protect the rights of marginalized groups.**\n",
      "*   **Embrace diversity and cultural pluralism.**\n",
      "*   **Continuously evaluate and adapt the system based on feedback and experience.**\n",
      "\n",
      "In conclusion, while \"Flourishing\" provides a powerful ethical framework, its implementation requires careful consideration of cultural context, ongoing dialogue, and a commitment to addressing potential conflicts in a fair and equitable manner. It requires a constant balancing act, navigating between individual and collective well-being, traditional values and modern aspirations, and the inherent subjectivity of the human experience. The process is as important as the outcome, emphasizing continuous learning and adaptation in the pursuit of a more flourishing world for all.\n",
      "\n",
      "Competitor: llama3.2\n",
      "\n",
      "If I could design an ethical system based on a single philosophical principle, I would choose \"The Principle of Care\" (Pareto), which states that \"happiness and flourishing are directly proportionate to the cultivation of care and understanding for the well-being of others.\"\n",
      "\n",
      "Understanding care as the foundation of ethical decision-making involves cultivating empathy, compassion, and kindness towards all individuals. This principle prioritizes human relationships, social responsibility, and sustainability.\n",
      "\n",
      "**Implementation:**\n",
      "\n",
      "1.  **Emphasis on Interdependence**: Design policies and programs that acknowledge the interconnectedness of human beings within ecosystems, economies, and societies. Encourage collaboration, mutual support, and collective well-being.\n",
      "2.  **Inclusive and Empathetic Governance**: Establish governance systems where decision-makers prioritize understanding the needs and perspectives of diverse stakeholders. Foster a culture of active listening, empathy, and care for marginalized groups.\n",
      "3.  **Education and Training**: Develop educational programs that focus on emotional intelligence, social-emotional learning, and interpersonal skill-building. Promote lifelong learning, self-awareness, and growth in personal relationships.\n",
      "4.  **Community Engagement and Participation**: Encourage public participation in decision-making processes through inclusive civic engagement initiatives. Empower community-led projects and advocacy efforts to address local concerns and develop solutions that reflect the needs of marginalized populations.\n",
      "5.  **Social Services and Support Systems**: Develop comprehensive social services, including mental health support networks, vocational training programs, and affordable housing initiatives, to help individuals and families care for one another.\n",
      "6.  **Economic Systems Redefined**: Gradually shift towards cooperative economic models, employee ownership co-ops, and social entrepreneurship, prioritizing well-being over profit above all else.\n",
      "7.  Develop language models designed with fairness that can effectively convey Pareto's values, which helps address potential conflicts and raises awareness about the importance of care.\n",
      "\n",
      "**Potential Conflicts:**\n",
      "\n",
      "1.  **Cultural Divergence**: Applying a universal principle like The Principle of Care across diverse cultural contexts may lead to misunderstandings or tensions arising from differing social norms.\n",
      "2.  **Conflicting Interests**: Balancing individual well-being with collective responsibilities, such as economic growth or personal desires, can be challenging and contentious.\n",
      "3.\n"
     ]
    }
   ],
   "source": [
    "# It's nice to know how to use \"zip\"\n",
    "for competitor, answer in zip(competitors, answers):\n",
    "    print(f\"Competitor: {competitor}\\n\\n{answer}\")\n"
   ]
  },
  {
   "cell_type": "code",
   "execution_count": 22,
   "metadata": {},
   "outputs": [],
   "source": [
    "# Let's bring this together - note the use of \"enumerate\"\n",
    "\n",
    "together = \"\"\n",
    "for index, answer in enumerate(answers):\n",
    "    together += f\"# Response from competitor {index+1}\\n\\n\"\n",
    "    together += answer + \"\\n\\n\""
   ]
  },
  {
   "cell_type": "code",
   "execution_count": 23,
   "metadata": {},
   "outputs": [
    {
     "name": "stdout",
     "output_type": "stream",
     "text": [
      "# Response from competitor 1\n",
      "\n",
      "Okay, this is a challenging and thought-provoking question. If I were to design an ethical system based on a single philosophical principle, I would choose **\"Flourishing\" (or Eudaimonia)**.\n",
      "\n",
      "Here's the rationale, implementation, and potential conflicts:\n",
      "\n",
      "**The Guiding Principle: Flourishing (Eudaimonia)**\n",
      "\n",
      "*   **Definition:**  Flourishing, derived from Aristotle's concept of Eudaimonia, goes beyond mere happiness or pleasure.  It represents a state of living well and doing well, realizing one's potential as a human being, and living a virtuous, meaningful, and purposeful life. It includes aspects like personal growth, strong relationships, contributing to society, intellectual development, emotional well-being, and ethical behavior. The emphasis is on developing one's capabilities to their fullest potential within a community.\n",
      "\n",
      "*   **Why this principle?**  Flourishing is appealing because it focuses on what is good for the individual and the collective, acknowledging the importance of both personal development and social responsibility. It is not prescriptive in the sense of dictating specific actions but rather offers a direction or aim for human life.\n",
      "\n",
      "**Implementation in Diverse Cultural Contexts**\n",
      "\n",
      "Implementing a \"Flourishing\"-based ethical system across diverse cultures requires a nuanced and adaptable approach, recognizing that the *expression* of flourishing will vary significantly across different societies:\n",
      "\n",
      "1.  **Core Values Framework:** Establish a framework of core values that are generally considered essential for human flourishing. This framework should be broad and adaptable, including concepts such as:\n",
      "\n",
      "    *   **Respect for persons:** Recognizing the inherent dignity and worth of every human being.\n",
      "    *   **Justice and Fairness:** Ensuring equitable treatment and opportunity for all.\n",
      "    *   **Compassion and Empathy:**  Understanding and responding to the suffering of others.\n",
      "    *   **Personal Responsibility:** Acknowledging one's obligations to oneself and to society.\n",
      "    *   **Integrity and Honesty:**  Maintaining truthfulness and moral uprightness.\n",
      "    *   **Knowledge and Wisdom:**  Pursuing understanding and learning.\n",
      "    *   **Community and Social Connection:** Fostering strong relationships and social cohesion.\n",
      "    *   **Environmental Stewardship:**  Protecting the natural world for future generations.\n",
      "    *   **Safety and Security:** Ensuring freedom from physical and psychological harm.\n",
      "2.  **Contextual Interpretation:** Each community or culture would then interpret these core values within its own unique historical, social, and cultural context.  This is crucial because what constitutes \"flourishing\" can differ significantly based on cultural norms, religious beliefs, and societal structures.  For example:\n",
      "\n",
      "    *   **Collectivist Cultures:** Flourishing might be more heavily weighted toward contributing to the well-being of the group or family.  Personal ambition might be tempered by the needs of the community.\n",
      "    *   **Individualistic Cultures:** Flourishing might prioritize individual achievement and self-expression.\n",
      "    *   **Religious Cultures:** Flourishing might be deeply intertwined with spiritual practices and adherence to religious doctrines.\n",
      "3.  **Dialogue and Consensus Building:** Implementing such a system would require ongoing dialogue and consensus-building within each community.  This could involve:\n",
      "\n",
      "    *   **Community Forums:**  Organizing regular discussions to explore the meaning of flourishing in the local context.\n",
      "    *   **Educational Programs:**  Developing educational materials that promote understanding of the core values and their relevance to daily life.\n",
      "    *   **Leadership Training:**  Equipping community leaders with the skills to facilitate ethical decision-making based on the principles of flourishing.\n",
      "4.  **Emphasis on Education and Virtue Development:**  The focus should be on educating individuals about the meaning of flourishing and providing opportunities for them to cultivate the virtues and skills necessary to live a flourishing life.  This could include:\n",
      "\n",
      "    *   **Ethical Education in Schools:**  Incorporating ethics into the curriculum at all levels of education.\n",
      "    *   **Mentorship Programs:**  Connecting young people with mentors who can model ethical behavior and provide guidance.\n",
      "    *   **Community Service Opportunities:**  Providing opportunities for individuals to contribute to their communities and develop a sense of social responsibility.\n",
      "5.  **Dynamic Adaptation:**  Recognize that the meaning of flourishing is not static and may evolve over time.  The system should be flexible and adaptable to changing social and cultural conditions.\n",
      "\n",
      "**Potential Conflicts**\n",
      "\n",
      "Even with a well-intentioned and thoughtfully implemented \"Flourishing\"-based ethical system, several potential conflicts could arise:\n",
      "\n",
      "1.  **Conflicting Interpretations:**  Different groups within a society might have conflicting interpretations of what constitutes flourishing, leading to disagreements about ethical priorities. For example, one group might prioritize economic development, while another might prioritize environmental protection.\n",
      "2.  **Individual vs. Collective Needs:**  Conflicts might arise between the needs of the individual and the needs of the community.  For example, individual freedom might be restricted in order to protect public health or safety.\n",
      "3.  **Clash of Cultural Values:**  In multicultural societies, conflicts might arise between different cultural values related to flourishing. For example, traditional practices that are considered harmful by some might be seen as essential to cultural identity by others.\n",
      "4.  **Subjectivity and Measurement:**  Flourishing is a subjective concept, and it can be difficult to measure progress or success in achieving it.  This can lead to debates about how to allocate resources and prioritize policies.\n",
      "5.  **Power Dynamics:**  The implementation of a \"Flourishing\"-based system could be influenced by power dynamics within a society.  Dominant groups might impose their own interpretations of flourishing on marginalized groups.\n",
      "6.  **Conflicts between different aspect of flourishing:** For instance, the pursuit of knowledge and progress might come into conflict with maintaining strong community ties or respecting traditional values.\n",
      "7.  **The Problem of 'Moral Saints':** Over-emphasis on maximizing flourishing could lead to excessive demands on individuals, expecting them to constantly strive for self-improvement and altruistic actions, neglecting their own legitimate needs and desires.\n",
      "\n",
      "**Mitigating Conflicts**\n",
      "\n",
      "To mitigate these potential conflicts, it is essential to:\n",
      "\n",
      "*   **Promote open dialogue and mutual understanding.**\n",
      "*   **Develop fair and transparent decision-making processes.**\n",
      "*   **Protect the rights of marginalized groups.**\n",
      "*   **Embrace diversity and cultural pluralism.**\n",
      "*   **Continuously evaluate and adapt the system based on feedback and experience.**\n",
      "\n",
      "In conclusion, while \"Flourishing\" provides a powerful ethical framework, its implementation requires careful consideration of cultural context, ongoing dialogue, and a commitment to addressing potential conflicts in a fair and equitable manner. It requires a constant balancing act, navigating between individual and collective well-being, traditional values and modern aspirations, and the inherent subjectivity of the human experience. The process is as important as the outcome, emphasizing continuous learning and adaptation in the pursuit of a more flourishing world for all.\n",
      "\n",
      "\n",
      "# Response from competitor 2\n",
      "\n",
      "If I could design an ethical system based on a single philosophical principle, I would choose \"The Principle of Care\" (Pareto), which states that \"happiness and flourishing are directly proportionate to the cultivation of care and understanding for the well-being of others.\"\n",
      "\n",
      "Understanding care as the foundation of ethical decision-making involves cultivating empathy, compassion, and kindness towards all individuals. This principle prioritizes human relationships, social responsibility, and sustainability.\n",
      "\n",
      "**Implementation:**\n",
      "\n",
      "1.  **Emphasis on Interdependence**: Design policies and programs that acknowledge the interconnectedness of human beings within ecosystems, economies, and societies. Encourage collaboration, mutual support, and collective well-being.\n",
      "2.  **Inclusive and Empathetic Governance**: Establish governance systems where decision-makers prioritize understanding the needs and perspectives of diverse stakeholders. Foster a culture of active listening, empathy, and care for marginalized groups.\n",
      "3.  **Education and Training**: Develop educational programs that focus on emotional intelligence, social-emotional learning, and interpersonal skill-building. Promote lifelong learning, self-awareness, and growth in personal relationships.\n",
      "4.  **Community Engagement and Participation**: Encourage public participation in decision-making processes through inclusive civic engagement initiatives. Empower community-led projects and advocacy efforts to address local concerns and develop solutions that reflect the needs of marginalized populations.\n",
      "5.  **Social Services and Support Systems**: Develop comprehensive social services, including mental health support networks, vocational training programs, and affordable housing initiatives, to help individuals and families care for one another.\n",
      "6.  **Economic Systems Redefined**: Gradually shift towards cooperative economic models, employee ownership co-ops, and social entrepreneurship, prioritizing well-being over profit above all else.\n",
      "7.  Develop language models designed with fairness that can effectively convey Pareto's values, which helps address potential conflicts and raises awareness about the importance of care.\n",
      "\n",
      "**Potential Conflicts:**\n",
      "\n",
      "1.  **Cultural Divergence**: Applying a universal principle like The Principle of Care across diverse cultural contexts may lead to misunderstandings or tensions arising from differing social norms.\n",
      "2.  **Conflicting Interests**: Balancing individual well-being with collective responsibilities, such as economic growth or personal desires, can be challenging and contentious.\n",
      "3.\n",
      "\n",
      "\n"
     ]
    }
   ],
   "source": [
    "print(together)"
   ]
  },
  {
   "cell_type": "code",
   "execution_count": 25,
   "metadata": {},
   "outputs": [],
   "source": [
    "judge = f\"\"\"You are judging a competition between {len(competitors)} competitors.\n",
    "Each model has been given this question:\n",
    "\n",
    "{question}\n",
    "\n",
    "Your job is to evaluate each response for clarity and strength of argument, and rank them in order of best to worst.\n",
    "Respond with JSON, and only JSON, with the following format:\n",
    "{{\"results\": [\"best competitor number\", \"second best competitor number\", \"third best competitor number\", ...]}}\n",
    "\n",
    "Here are the responses from each competitor:\n",
    "\n",
    "{together}\n",
    "\n",
    "Now respond with the JSON with the ranked order of the competitors, nothing else. Do not include markdown formatting or code blocks.\"\"\"\n"
   ]
  },
  {
   "cell_type": "code",
   "execution_count": 26,
   "metadata": {},
   "outputs": [
    {
     "name": "stdout",
     "output_type": "stream",
     "text": [
      "You are judging a competition between 2 competitors.\n",
      "Each model has been given this question:\n",
      "\n",
      "If you could design an ethical system based on a single philosophical principle, which principle would you choose, how would you implement it in diverse cultural contexts, and what potential conflicts might arise from this implementation?\n",
      "\n",
      "Your job is to evaluate each response for clarity and strength of argument, and rank them in order of best to worst.\n",
      "Respond with JSON, and only JSON, with the following format:\n",
      "{\"results\": [\"best competitor number\", \"second best competitor number\", \"third best competitor number\", ...]}\n",
      "\n",
      "Here are the responses from each competitor:\n",
      "\n",
      "# Response from competitor 1\n",
      "\n",
      "Okay, this is a challenging and thought-provoking question. If I were to design an ethical system based on a single philosophical principle, I would choose **\"Flourishing\" (or Eudaimonia)**.\n",
      "\n",
      "Here's the rationale, implementation, and potential conflicts:\n",
      "\n",
      "**The Guiding Principle: Flourishing (Eudaimonia)**\n",
      "\n",
      "*   **Definition:**  Flourishing, derived from Aristotle's concept of Eudaimonia, goes beyond mere happiness or pleasure.  It represents a state of living well and doing well, realizing one's potential as a human being, and living a virtuous, meaningful, and purposeful life. It includes aspects like personal growth, strong relationships, contributing to society, intellectual development, emotional well-being, and ethical behavior. The emphasis is on developing one's capabilities to their fullest potential within a community.\n",
      "\n",
      "*   **Why this principle?**  Flourishing is appealing because it focuses on what is good for the individual and the collective, acknowledging the importance of both personal development and social responsibility. It is not prescriptive in the sense of dictating specific actions but rather offers a direction or aim for human life.\n",
      "\n",
      "**Implementation in Diverse Cultural Contexts**\n",
      "\n",
      "Implementing a \"Flourishing\"-based ethical system across diverse cultures requires a nuanced and adaptable approach, recognizing that the *expression* of flourishing will vary significantly across different societies:\n",
      "\n",
      "1.  **Core Values Framework:** Establish a framework of core values that are generally considered essential for human flourishing. This framework should be broad and adaptable, including concepts such as:\n",
      "\n",
      "    *   **Respect for persons:** Recognizing the inherent dignity and worth of every human being.\n",
      "    *   **Justice and Fairness:** Ensuring equitable treatment and opportunity for all.\n",
      "    *   **Compassion and Empathy:**  Understanding and responding to the suffering of others.\n",
      "    *   **Personal Responsibility:** Acknowledging one's obligations to oneself and to society.\n",
      "    *   **Integrity and Honesty:**  Maintaining truthfulness and moral uprightness.\n",
      "    *   **Knowledge and Wisdom:**  Pursuing understanding and learning.\n",
      "    *   **Community and Social Connection:** Fostering strong relationships and social cohesion.\n",
      "    *   **Environmental Stewardship:**  Protecting the natural world for future generations.\n",
      "    *   **Safety and Security:** Ensuring freedom from physical and psychological harm.\n",
      "2.  **Contextual Interpretation:** Each community or culture would then interpret these core values within its own unique historical, social, and cultural context.  This is crucial because what constitutes \"flourishing\" can differ significantly based on cultural norms, religious beliefs, and societal structures.  For example:\n",
      "\n",
      "    *   **Collectivist Cultures:** Flourishing might be more heavily weighted toward contributing to the well-being of the group or family.  Personal ambition might be tempered by the needs of the community.\n",
      "    *   **Individualistic Cultures:** Flourishing might prioritize individual achievement and self-expression.\n",
      "    *   **Religious Cultures:** Flourishing might be deeply intertwined with spiritual practices and adherence to religious doctrines.\n",
      "3.  **Dialogue and Consensus Building:** Implementing such a system would require ongoing dialogue and consensus-building within each community.  This could involve:\n",
      "\n",
      "    *   **Community Forums:**  Organizing regular discussions to explore the meaning of flourishing in the local context.\n",
      "    *   **Educational Programs:**  Developing educational materials that promote understanding of the core values and their relevance to daily life.\n",
      "    *   **Leadership Training:**  Equipping community leaders with the skills to facilitate ethical decision-making based on the principles of flourishing.\n",
      "4.  **Emphasis on Education and Virtue Development:**  The focus should be on educating individuals about the meaning of flourishing and providing opportunities for them to cultivate the virtues and skills necessary to live a flourishing life.  This could include:\n",
      "\n",
      "    *   **Ethical Education in Schools:**  Incorporating ethics into the curriculum at all levels of education.\n",
      "    *   **Mentorship Programs:**  Connecting young people with mentors who can model ethical behavior and provide guidance.\n",
      "    *   **Community Service Opportunities:**  Providing opportunities for individuals to contribute to their communities and develop a sense of social responsibility.\n",
      "5.  **Dynamic Adaptation:**  Recognize that the meaning of flourishing is not static and may evolve over time.  The system should be flexible and adaptable to changing social and cultural conditions.\n",
      "\n",
      "**Potential Conflicts**\n",
      "\n",
      "Even with a well-intentioned and thoughtfully implemented \"Flourishing\"-based ethical system, several potential conflicts could arise:\n",
      "\n",
      "1.  **Conflicting Interpretations:**  Different groups within a society might have conflicting interpretations of what constitutes flourishing, leading to disagreements about ethical priorities. For example, one group might prioritize economic development, while another might prioritize environmental protection.\n",
      "2.  **Individual vs. Collective Needs:**  Conflicts might arise between the needs of the individual and the needs of the community.  For example, individual freedom might be restricted in order to protect public health or safety.\n",
      "3.  **Clash of Cultural Values:**  In multicultural societies, conflicts might arise between different cultural values related to flourishing. For example, traditional practices that are considered harmful by some might be seen as essential to cultural identity by others.\n",
      "4.  **Subjectivity and Measurement:**  Flourishing is a subjective concept, and it can be difficult to measure progress or success in achieving it.  This can lead to debates about how to allocate resources and prioritize policies.\n",
      "5.  **Power Dynamics:**  The implementation of a \"Flourishing\"-based system could be influenced by power dynamics within a society.  Dominant groups might impose their own interpretations of flourishing on marginalized groups.\n",
      "6.  **Conflicts between different aspect of flourishing:** For instance, the pursuit of knowledge and progress might come into conflict with maintaining strong community ties or respecting traditional values.\n",
      "7.  **The Problem of 'Moral Saints':** Over-emphasis on maximizing flourishing could lead to excessive demands on individuals, expecting them to constantly strive for self-improvement and altruistic actions, neglecting their own legitimate needs and desires.\n",
      "\n",
      "**Mitigating Conflicts**\n",
      "\n",
      "To mitigate these potential conflicts, it is essential to:\n",
      "\n",
      "*   **Promote open dialogue and mutual understanding.**\n",
      "*   **Develop fair and transparent decision-making processes.**\n",
      "*   **Protect the rights of marginalized groups.**\n",
      "*   **Embrace diversity and cultural pluralism.**\n",
      "*   **Continuously evaluate and adapt the system based on feedback and experience.**\n",
      "\n",
      "In conclusion, while \"Flourishing\" provides a powerful ethical framework, its implementation requires careful consideration of cultural context, ongoing dialogue, and a commitment to addressing potential conflicts in a fair and equitable manner. It requires a constant balancing act, navigating between individual and collective well-being, traditional values and modern aspirations, and the inherent subjectivity of the human experience. The process is as important as the outcome, emphasizing continuous learning and adaptation in the pursuit of a more flourishing world for all.\n",
      "\n",
      "\n",
      "# Response from competitor 2\n",
      "\n",
      "If I could design an ethical system based on a single philosophical principle, I would choose \"The Principle of Care\" (Pareto), which states that \"happiness and flourishing are directly proportionate to the cultivation of care and understanding for the well-being of others.\"\n",
      "\n",
      "Understanding care as the foundation of ethical decision-making involves cultivating empathy, compassion, and kindness towards all individuals. This principle prioritizes human relationships, social responsibility, and sustainability.\n",
      "\n",
      "**Implementation:**\n",
      "\n",
      "1.  **Emphasis on Interdependence**: Design policies and programs that acknowledge the interconnectedness of human beings within ecosystems, economies, and societies. Encourage collaboration, mutual support, and collective well-being.\n",
      "2.  **Inclusive and Empathetic Governance**: Establish governance systems where decision-makers prioritize understanding the needs and perspectives of diverse stakeholders. Foster a culture of active listening, empathy, and care for marginalized groups.\n",
      "3.  **Education and Training**: Develop educational programs that focus on emotional intelligence, social-emotional learning, and interpersonal skill-building. Promote lifelong learning, self-awareness, and growth in personal relationships.\n",
      "4.  **Community Engagement and Participation**: Encourage public participation in decision-making processes through inclusive civic engagement initiatives. Empower community-led projects and advocacy efforts to address local concerns and develop solutions that reflect the needs of marginalized populations.\n",
      "5.  **Social Services and Support Systems**: Develop comprehensive social services, including mental health support networks, vocational training programs, and affordable housing initiatives, to help individuals and families care for one another.\n",
      "6.  **Economic Systems Redefined**: Gradually shift towards cooperative economic models, employee ownership co-ops, and social entrepreneurship, prioritizing well-being over profit above all else.\n",
      "7.  Develop language models designed with fairness that can effectively convey Pareto's values, which helps address potential conflicts and raises awareness about the importance of care.\n",
      "\n",
      "**Potential Conflicts:**\n",
      "\n",
      "1.  **Cultural Divergence**: Applying a universal principle like The Principle of Care across diverse cultural contexts may lead to misunderstandings or tensions arising from differing social norms.\n",
      "2.  **Conflicting Interests**: Balancing individual well-being with collective responsibilities, such as economic growth or personal desires, can be challenging and contentious.\n",
      "3.\n",
      "\n",
      "\n",
      "\n",
      "Now respond with the JSON with the ranked order of the competitors, nothing else. Do not include markdown formatting or code blocks.\n"
     ]
    }
   ],
   "source": [
    "print(judge)"
   ]
  },
  {
   "cell_type": "code",
   "execution_count": 27,
   "metadata": {},
   "outputs": [],
   "source": [
    "judge_messages = [{\"role\": \"user\", \"content\": judge}]"
   ]
  },
  {
   "cell_type": "code",
   "execution_count": 28,
   "metadata": {},
   "outputs": [
    {
     "name": "stdout",
     "output_type": "stream",
     "text": [
      "{\"results\": [\"1\", \"2\"]}\n"
     ]
    }
   ],
   "source": [
    "# Judgement time!\n",
    "\n",
    "openai = OpenAI()\n",
    "response = openai.chat.completions.create(\n",
    "    model=\"o3-mini\",\n",
    "    messages=judge_messages,\n",
    ")\n",
    "results = response.choices[0].message.content\n",
    "print(results)\n"
   ]
  },
  {
   "cell_type": "code",
   "execution_count": 29,
   "metadata": {},
   "outputs": [
    {
     "name": "stdout",
     "output_type": "stream",
     "text": [
      "Rank 1: gemini-2.0-flash\n",
      "Rank 2: llama3.2\n"
     ]
    }
   ],
   "source": [
    "# OK let's turn this into results!\n",
    "\n",
    "results_dict = json.loads(results)\n",
    "ranks = results_dict[\"results\"]\n",
    "for index, result in enumerate(ranks):\n",
    "    competitor = competitors[int(result)-1]\n",
    "    print(f\"Rank {index+1}: {competitor}\")"
   ]
  },
  {
   "cell_type": "markdown",
   "metadata": {},
   "source": [
    "<table style=\"margin: 0; text-align: left; width:100%\">\n",
    "    <tr>\n",
    "        <td style=\"width: 150px; height: 150px; vertical-align: middle;\">\n",
    "            <img src=\"../assets/exercise.png\" width=\"150\" height=\"150\" style=\"display: block;\" />\n",
    "        </td>\n",
    "        <td>\n",
    "            <h2 style=\"color:#ff7800;\">Exercise</h2>\n",
    "            <span style=\"color:#ff7800;\">Which pattern(s) did this use? Try updating this to add another Agentic design pattern.\n",
    "            </span>\n",
    "        </td>\n",
    "    </tr>\n",
    "</table>"
   ]
  },
  {
   "cell_type": "markdown",
   "metadata": {},
   "source": [
    "<table style=\"margin: 0; text-align: left; width:100%\">\n",
    "    <tr>\n",
    "        <td style=\"width: 150px; height: 150px; vertical-align: middle;\">\n",
    "            <img src=\"../assets/business.png\" width=\"150\" height=\"150\" style=\"display: block;\" />\n",
    "        </td>\n",
    "        <td>\n",
    "            <h2 style=\"color:#00bfff;\">Commercial implications</h2>\n",
    "            <span style=\"color:#00bfff;\">These kinds of patterns - to send a task to multiple models, and evaluate results,\n",
    "            are common where you need to improve the quality of your LLM response. This approach can be universally applied\n",
    "            to business projects where accuracy is critical.\n",
    "            </span>\n",
    "        </td>\n",
    "    </tr>\n",
    "</table>"
   ]
  }
 ],
 "metadata": {
  "kernelspec": {
   "display_name": "agents (3.12.11)",
   "language": "python",
   "name": "python3"
  },
  "language_info": {
   "codemirror_mode": {
    "name": "ipython",
    "version": 3
   },
   "file_extension": ".py",
   "mimetype": "text/x-python",
   "name": "python",
   "nbconvert_exporter": "python",
   "pygments_lexer": "ipython3",
   "version": "3.12.11"
  }
 },
 "nbformat": 4,
 "nbformat_minor": 2
}
