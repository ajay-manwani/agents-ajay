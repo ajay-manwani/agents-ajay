{
 "cells": [
  {
   "cell_type": "markdown",
   "metadata": {},
   "source": [
    "# Welcome to the start of your adventure in Agentic AI"
   ]
  },
  {
   "cell_type": "markdown",
   "metadata": {},
   "source": [
    "<table style=\"margin: 0; text-align: left; width:100%\">\n",
    "    <tr>\n",
    "        <td style=\"width: 150px; height: 150px; vertical-align: middle;\">\n",
    "            <img src=\"../assets/stop.png\" width=\"150\" height=\"150\" style=\"display: block;\" />\n",
    "        </td>\n",
    "        <td>\n",
    "            <h2 style=\"color:#ff7800;\">Are you ready for action??</h2>\n",
    "            <span style=\"color:#ff7800;\">Have you completed all the setup steps in the <a href=\"../setup/\">setup</a> folder?<br/>\n",
    "            Have you read the <a href=\"../README.md\">README</a>? Many common questions are answered here!<br/>\n",
    "            Have you checked out the guides in the <a href=\"../guides/01_intro.ipynb\">guides</a> folder?<br/>\n",
    "            Well in that case, you're ready!!\n",
    "            </span>\n",
    "        </td>\n",
    "    </tr>\n",
    "</table>"
   ]
  },
  {
   "cell_type": "markdown",
   "metadata": {},
   "source": [
    "<table style=\"margin: 0; text-align: left; width:100%\">\n",
    "    <tr>\n",
    "        <td style=\"width: 150px; height: 150px; vertical-align: middle;\">\n",
    "            <img src=\"../assets/tools.png\" width=\"150\" height=\"150\" style=\"display: block;\" />\n",
    "        </td>\n",
    "        <td>\n",
    "            <h2 style=\"color:#00bfff;\">This code is a live resource - keep an eye out for my updates</h2>\n",
    "            <span style=\"color:#00bfff;\">I push updates regularly. As people ask questions or have problems, I add more examples and improve explanations. As a result, the code below might not be identical to the videos, as I've added more steps and better comments. Consider this like an interactive book that accompanies the lectures.<br/><br/>\n",
    "            I try to send emails regularly with important updates related to the course. You can find this in the 'Announcements' section of Udemy in the left sidebar. You can also choose to receive my emails via your Notification Settings in Udemy. I'm respectful of your inbox and always try to add value with my emails!\n",
    "            </span>\n",
    "        </td>\n",
    "    </tr>\n",
    "</table>"
   ]
  },
  {
   "cell_type": "markdown",
   "metadata": {},
   "source": [
    "### And please do remember to contact me if I can help\n",
    "\n",
    "And I love to connect: https://www.linkedin.com/in/eddonner/\n",
    "\n",
    "\n",
    "### New to Notebooks like this one? Head over to the guides folder!\n",
    "\n",
    "Just to check you've already added the Python and Jupyter extensions to Cursor, if not already installed:\n",
    "- Open extensions (View >> extensions)\n",
    "- Search for python, and when the results show, click on the ms-python one, and Install it if not already installed\n",
    "- Search for jupyter, and when the results show, click on the Microsoft one, and Install it if not already installed  \n",
    "Then View >> Explorer to bring back the File Explorer.\n",
    "\n",
    "And then:\n",
    "1. Click where it says \"Select Kernel\" near the top right, and select the option called `.venv (Python 3.12.9)` or similar, which should be the first choice or the most prominent choice. You may need to choose \"Python Environments\" first.\n",
    "2. Click in each \"cell\" below, starting with the cell immediately below this text, and press Shift+Enter to run\n",
    "3. Enjoy!\n",
    "\n",
    "After you click \"Select Kernel\", if there is no option like `.venv (Python 3.12.9)` then please do the following:  \n",
    "1. On Mac: From the Cursor menu, choose Settings >> VS Code Settings (NOTE: be sure to select `VSCode Settings` not `Cursor Settings`);  \n",
    "On Windows PC: From the File menu, choose Preferences >> VS Code Settings(NOTE: be sure to select `VSCode Settings` not `Cursor Settings`)  \n",
    "2. In the Settings search bar, type \"venv\"  \n",
    "3. In the field \"Path to folder with a list of Virtual Environments\" put the path to the project root, like C:\\Users\\username\\projects\\agents (on a Windows PC) or /Users/username/projects/agents (on Mac or Linux).  \n",
    "And then try again.\n",
    "\n",
    "Having problems with missing Python versions in that list? Have you ever used Anaconda before? It might be interferring. Quit Cursor, bring up a new command line, and make sure that your Anaconda environment is deactivated:    \n",
    "`conda deactivate`  \n",
    "And if you still have any problems with conda and python versions, it's possible that you will need to run this too:  \n",
    "`conda config --set auto_activate_base false`  \n",
    "and then from within the Agents directory, you should be able to run `uv python list` and see the Python 3.12 version."
   ]
  },
  {
   "cell_type": "code",
   "execution_count": null,
   "metadata": {},
   "outputs": [],
   "source": [
    "# First let's do an import. If you get an Import Error, double check that your Kernel is correct..\n",
    "\n",
    "from dotenv import load_dotenv\n"
   ]
  },
  {
   "cell_type": "code",
   "execution_count": null,
   "metadata": {},
   "outputs": [],
   "source": [
    "# Next it's time to load the API keys into environment variables\n",
    "# If this returns false, see the next cell!\n",
    "\n",
    "load_dotenv(override=True)"
   ]
  },
  {
   "cell_type": "markdown",
   "metadata": {},
   "source": [
    "### Wait, did that just output `False`??\n",
    "\n",
    "If so, the most common reason is that you didn't save your `.env` file after adding the key! Be sure to have saved.\n",
    "\n",
    "Also, make sure the `.env` file is named precisely `.env` and is in the project root directory (`agents`)\n",
    "\n",
    "By the way, your `.env` file should have a stop symbol next to it in Cursor on the left, and that's actually a good thing: that's Cursor saying to you, \"hey, I realize this is a file filled with secret information, and I'm not going to send it to an external AI to suggest changes, because your keys should not be shown to anyone else.\""
   ]
  },
  {
   "cell_type": "markdown",
   "metadata": {},
   "source": [
    "<table style=\"margin: 0; text-align: left; width:100%\">\n",
    "    <tr>\n",
    "        <td style=\"width: 150px; height: 150px; vertical-align: middle;\">\n",
    "            <img src=\"../assets/stop.png\" width=\"150\" height=\"150\" style=\"display: block;\" />\n",
    "        </td>\n",
    "        <td>\n",
    "            <h2 style=\"color:#ff7800;\">Final reminders</h2>\n",
    "            <span style=\"color:#ff7800;\">1. If you're not confident about Environment Variables or Web Endpoints / APIs, please read Topics 3 and 5 in this <a href=\"../guides/04_technical_foundations.ipynb\">technical foundations guide</a>.<br/>\n",
    "            2. If you want to use AIs other than OpenAI, like Gemini, DeepSeek or Ollama (free), please see the first section in this <a href=\"../guides/09_ai_apis_and_ollama.ipynb\">AI APIs guide</a>.<br/>\n",
    "            3. If you ever get a Name Error in Python, you can always fix it immediately; see the last section of this <a href=\"../guides/06_python_foundations.ipynb\">Python Foundations guide</a> and follow both tutorials and exercises.<br/>\n",
    "            </span>\n",
    "        </td>\n",
    "    </tr>\n",
    "</table>"
   ]
  },
  {
   "cell_type": "code",
   "execution_count": null,
   "metadata": {},
   "outputs": [],
   "source": [
    "# Check the key - if you're not using OpenAI, check whichever key you're using! Ollama doesn't need a key.\n",
    "\n",
    "import os\n",
    "openai_api_key = os.getenv('OPENAI_API_KEY')\n",
    "\n",
    "if openai_api_key:\n",
    "    print(f\"OpenAI API Key exists and begins {openai_api_key[:8]}\")\n",
    "else:\n",
    "    print(\"OpenAI API Key not set - please head to the troubleshooting guide in the setup folder\")\n",
    "    \n"
   ]
  },
  {
   "cell_type": "code",
   "execution_count": null,
   "metadata": {},
   "outputs": [],
   "source": [
    "# And now - the all important import statement\n",
    "# If you get an import error - head over to troubleshooting in the Setup folder\n",
    "# Even for other LLM providers like Gemini, you still use this OpenAI import - see Guide 9 for why\n",
    "\n",
    "from openai import OpenAI"
   ]
  },
  {
   "cell_type": "code",
   "execution_count": null,
   "metadata": {},
   "outputs": [],
   "source": [
    "# And now we'll create an instance of the OpenAI class\n",
    "# If you're not sure what it means to create an instance of a class - head over to the guides folder (guide 6)!\n",
    "# If you get a NameError - head over to the guides folder (guide 6)to learn about NameErrors - always instantly fixable\n",
    "# If you're not using OpenAI, you just need to slightly modify this - precise instructions are in the AI APIs guide (guide 9)\n",
    "\n",
    "openai = OpenAI()"
   ]
  },
  {
   "cell_type": "code",
   "execution_count": null,
   "metadata": {},
   "outputs": [],
   "source": [
    "# Create a list of messages in the familiar OpenAI format\n",
    "\n",
    "messages = [{\"role\": \"user\", \"content\": \"What is 2+2?\"}]"
   ]
  },
  {
   "cell_type": "code",
   "execution_count": null,
   "metadata": {},
   "outputs": [],
   "source": [
    "# And now call it! Any problems, head to the troubleshooting guide\n",
    "# This uses GPT 4.1 nano, the incredibly cheap model\n",
    "# The APIs guide (guide 9) has exact instructions for using even cheaper or free alternatives to OpenAI\n",
    "# If you get a NameError, head to the guides folder (guide 6) to learn about NameErrors - always instantly fixable\n",
    "\n",
    "response = openai.chat.completions.create(\n",
    "    model=\"gpt-4.1-nano\",\n",
    "    messages=messages\n",
    ")\n",
    "\n",
    "print(response.choices[0].message.content)\n"
   ]
  },
  {
   "cell_type": "code",
   "execution_count": null,
   "metadata": {},
   "outputs": [],
   "source": [
    "# And now - let's ask for a question:\n",
    "\n",
    "question = \"Please propose a hard, challenging question to assess someone's IQ. Respond only with the question.\"\n",
    "messages = [{\"role\": \"user\", \"content\": question}]\n"
   ]
  },
  {
   "cell_type": "code",
   "execution_count": null,
   "metadata": {},
   "outputs": [],
   "source": [
    "# ask it - this uses GPT 4.1 mini, still cheap but more powerful than nano\n",
    "\n",
    "response = openai.chat.completions.create(\n",
    "    model=\"gpt-4.1-mini\",\n",
    "    messages=messages\n",
    ")\n",
    "\n",
    "question = response.choices[0].message.content\n",
    "\n",
    "print(question)\n"
   ]
  },
  {
   "cell_type": "code",
   "execution_count": null,
   "metadata": {},
   "outputs": [],
   "source": [
    "# form a new messages list\n",
    "messages = [{\"role\": \"user\", \"content\": question}]\n"
   ]
  },
  {
   "cell_type": "code",
   "execution_count": null,
   "metadata": {},
   "outputs": [],
   "source": [
    "# Ask it again\n",
    "\n",
    "response = openai.chat.completions.create(\n",
    "    model=\"gpt-4.1-mini\",\n",
    "    messages=messages\n",
    ")\n",
    "\n",
    "answer = response.choices[0].message.content\n",
    "print(answer)\n"
   ]
  },
  {
   "cell_type": "code",
   "execution_count": null,
   "metadata": {},
   "outputs": [],
   "source": [
    "from IPython.display import Markdown, display\n",
    "\n",
    "display(Markdown(answer))\n",
    "\n"
   ]
  },
  {
   "cell_type": "markdown",
   "metadata": {},
   "source": [
    "# Congratulations!\n",
    "\n",
    "That was a small, simple step in the direction of Agentic AI, with your new environment!\n",
    "\n",
    "Next time things get more interesting..."
   ]
  },
  {
   "cell_type": "markdown",
   "metadata": {},
   "source": [
    "<table style=\"margin: 0; text-align: left; width:100%\">\n",
    "    <tr>\n",
    "        <td style=\"width: 150px; height: 150px; vertical-align: middle;\">\n",
    "            <img src=\"../assets/exercise.png\" width=\"150\" height=\"150\" style=\"display: block;\" />\n",
    "        </td>\n",
    "        <td>\n",
    "            <h2 style=\"color:#ff7800;\">Exercise</h2>\n",
    "            <span style=\"color:#ff7800;\">Now try this commercial application:<br/>\n",
    "            First ask the LLM to pick a business area that might be worth exploring for an Agentic AI opportunity.<br/>\n",
    "            Then ask the LLM to present a pain-point in that industry - something challenging that might be ripe for an Agentic solution.<br/>\n",
    "            Finally have 3 third LLM call propose the Agentic AI solution. <br/>\n",
    "            We will cover this at up-coming labs, so don't worry if you're unsure.. just give it a try!\n",
    "            </span>\n",
    "        </td>\n",
    "    </tr>\n",
    "</table>"
   ]
  },
  {
   "cell_type": "code",
   "execution_count": null,
   "metadata": {},
   "outputs": [],
   "source": [
    "# First create the messages:\n",
    "\n",
    "messages = [{\"role\": \"user\", \"content\": \"Something here\"}]\n",
    "\n",
    "# Then make the first call:\n",
    "\n",
    "response =\n",
    "\n",
    "# Then read the business idea:\n",
    "\n",
    "business_idea = response.\n",
    "\n",
    "# And repeat! In the next message, include the business idea within the message"
   ]
  },
  {
   "cell_type": "markdown",
   "metadata": {},
   "source": []
  },
  {
   "cell_type": "code",
   "execution_count": 1,
   "metadata": {},
   "outputs": [],
   "source": [
    "from dotenv import load_dotenv"
   ]
  },
  {
   "cell_type": "code",
   "execution_count": 5,
   "metadata": {},
   "outputs": [
    {
     "data": {
      "text/plain": [
       "True"
      ]
     },
     "execution_count": 5,
     "metadata": {},
     "output_type": "execute_result"
    }
   ],
   "source": [
    "load_dotenv(override=True)"
   ]
  },
  {
   "cell_type": "code",
   "execution_count": 6,
   "metadata": {},
   "outputs": [
    {
     "name": "stdout",
     "output_type": "stream",
     "text": [
      "OpenAI API Key exists and begins sk-proj-\n"
     ]
    }
   ],
   "source": [
    "import os\n",
    "openai_api_key = os.getenv('OPENAI_API_KEY')\n",
    "\n",
    "if openai_api_key:\n",
    "    print(f\"OpenAI API Key exists and begins {openai_api_key[:8]}\")\n",
    "else:\n",
    "    print(\"OpenAI API Key not set - please head to the troubleshooting guide in the setup folder\")\n",
    "    \n",
    "    "
   ]
  },
  {
   "cell_type": "code",
   "execution_count": 8,
   "metadata": {},
   "outputs": [],
   "source": [
    "from openai import OpenAI\n"
   ]
  },
  {
   "cell_type": "code",
   "execution_count": 9,
   "metadata": {},
   "outputs": [],
   "source": [
    "openai= OpenAI()\n",
    "\n",
    "messages = [\n",
    "    {\"role\": \"user\", \"content\": \"Hello, how are you?\"}\n",
    "]\n",
    "\n"
   ]
  },
  {
   "cell_type": "code",
   "execution_count": 13,
   "metadata": {},
   "outputs": [
    {
     "name": "stdout",
     "output_type": "stream",
     "text": [
      "Hello! I'm doing well, thank you. How can I assist you today?\n"
     ]
    }
   ],
   "source": [
    "response = openai.chat.completions.create(\n",
    "    model=\"gpt-4.1-mini\",\n",
    "    messages=messages\n",
    ")\n",
    "\n",
    "print(response.choices[0].message.content)"
   ]
  },
  {
   "cell_type": "code",
   "execution_count": 14,
   "metadata": {},
   "outputs": [
    {
     "name": "stdout",
     "output_type": "stream",
     "text": [
      "If you have a 5-liter jug and a 3-liter jug, how can you measure exactly 4 liters of water using these two jugs, assuming you have an unlimited supply of water?\n"
     ]
    }
   ],
   "source": [
    "question = \"propose a hard, challeging question to assess someone's IQ. Respond only with the question\"\n",
    "messages = [\n",
    "    {\"role\": \"user\", \"content\": question}\n",
    "]\n",
    "\n",
    "response = openai.chat.completions.create(\n",
    "    model=\"gpt-4o-mini\",\n",
    "    messages=messages\n",
    ")\n",
    "\n",
    "question = response.choices[0].message.content\n",
    "print(question)\n"
   ]
  },
  {
   "cell_type": "code",
   "execution_count": 15,
   "metadata": {},
   "outputs": [
    {
     "name": "stdout",
     "output_type": "stream",
     "text": [
      "To measure exactly 4 liters using a 5-liter jug and a 3-liter jug, follow these steps:\n",
      "\n",
      "1. **Fill the 5-liter jug completely** from the water supply.\n",
      "2. **Pour water from the 5-liter jug into the 3-liter jug** until the 3-liter jug is full. This will leave you with 2 liters in the 5-liter jug (since 5 - 3 = 2).\n",
      "3. **Empty the 3-liter jug** completely.\n",
      "4. **Pour the remaining 2 liters from the 5-liter jug into the 3-liter jug**. Now, the 3-liter jug has 2 liters and the 5-liter jug is empty.\n",
      "5. **Fill the 5-liter jug again completely** from the water supply.\n",
      "6. **Pour water from the 5-liter jug into the 3-liter jug** until the 3-liter jug is full. Since the 3-liter jug already has 2 liters, you can only pour 1 more liter into it (to reach 3 liters total). \n",
      "\n",
      "Now, after this final pour, you will have exactly 4 liters of water remaining in the 5-liter jug. \n",
      "\n",
      "So, the final answer is that you end up with 4 liters in the 5-liter jug.\n"
     ]
    }
   ],
   "source": [
    "messages = [\n",
    "    {\"role\": \"user\", \"content\": question}\n",
    "]\n",
    "\n",
    "response = openai.chat.completions.create(\n",
    "    model=\"gpt-4o-mini\",\n",
    "    messages=messages\n",
    ")\n",
    "answer = response.choices[0].message.content\n",
    "print(answer)"
   ]
  },
  {
   "cell_type": "code",
   "execution_count": 16,
   "metadata": {},
   "outputs": [
    {
     "data": {
      "text/markdown": [
       "To measure exactly 4 liters using a 5-liter jug and a 3-liter jug, follow these steps:\n",
       "\n",
       "1. **Fill the 5-liter jug completely** from the water supply.\n",
       "2. **Pour water from the 5-liter jug into the 3-liter jug** until the 3-liter jug is full. This will leave you with 2 liters in the 5-liter jug (since 5 - 3 = 2).\n",
       "3. **Empty the 3-liter jug** completely.\n",
       "4. **Pour the remaining 2 liters from the 5-liter jug into the 3-liter jug**. Now, the 3-liter jug has 2 liters and the 5-liter jug is empty.\n",
       "5. **Fill the 5-liter jug again completely** from the water supply.\n",
       "6. **Pour water from the 5-liter jug into the 3-liter jug** until the 3-liter jug is full. Since the 3-liter jug already has 2 liters, you can only pour 1 more liter into it (to reach 3 liters total). \n",
       "\n",
       "Now, after this final pour, you will have exactly 4 liters of water remaining in the 5-liter jug. \n",
       "\n",
       "So, the final answer is that you end up with 4 liters in the 5-liter jug."
      ],
      "text/plain": [
       "<IPython.core.display.Markdown object>"
      ]
     },
     "metadata": {},
     "output_type": "display_data"
    }
   ],
   "source": [
    "from IPython.display import Markdown,display\n",
    "\n",
    "display(Markdown(answer))"
   ]
  },
  {
   "cell_type": "markdown",
   "metadata": {},
   "source": [
    "Excercise\n"
   ]
  },
  {
   "cell_type": "markdown",
   "metadata": {},
   "source": [
    "<table style=\"margin: 0; text-align: left; width:100%\">\n",
    "    <tr>\n",
    "        <td style=\"width: 150px; height: 150px; vertical-align: middle;\">\n",
    "            <img src=\"../assets/exercise.png\" width=\"150\" height=\"150\" style=\"display: block;\" />\n",
    "        </td>\n",
    "        <td>\n",
    "            <h2 style=\"color:#ff7800;\">Exercise</h2>\n",
    "            <span style=\"color:#ff7800;\">Now try this commercial application:<br/>\n",
    "            First ask the LLM to pick a business area that might be worth exploring for an Agentic AI opportunity.<br/>\n",
    "            Then ask the LLM to present a pain-point in that industry - something challenging that might be ripe for an Agentic solution.<br/>\n",
    "            Finally have 3 third LLM call propose the Agentic AI solution. <br/>\n",
    "            We will cover this at up-coming labs, so don't worry if you're unsure.. just give it a try!\n",
    "            </span>\n",
    "        </td>\n",
    "    </tr>\n",
    "</table>"
   ]
  },
  {
   "cell_type": "code",
   "execution_count": 17,
   "metadata": {},
   "outputs": [
    {
     "name": "stdout",
     "output_type": "stream",
     "text": [
      "### Business Idea: Personalized Wellness Coach Powered by Agentic AI\n",
      "\n",
      "#### Concept Overview\n",
      "Create a mobile and web application that serves as a personalized wellness coach utilizing agentic AI. The app would use data-driven insights to offer tailored fitness, nutrition, and mental well-being plans that adapt in real-time based on user feedback, health data, and personal preferences.\n",
      "\n",
      "#### Key Features\n",
      "\n",
      "1. **User Profile Creation**:\n",
      "   - Users fill out detailed profiles including health goals (e.g., weight loss, muscle gain), dietary restrictions, exercise preferences, and mental wellness objectives.\n",
      "\n",
      "2. **AI-Driven Personalization**:\n",
      "   - The agentic AI analyzes user data and suggests personalized fitness routines, meal plans, and mental wellness exercises.\n",
      "   - As users progress, the AI adjusts recommendations based on changing goals, feedback, or life circumstances.\n",
      "\n",
      "3. **Integration with Wearable Devices**:\n",
      "   - The app syncs with wearable health devices (e.g., fitness trackers, smartwatches) to gather real-time health data, such as heart rate, activity levels, and sleep patterns.\n",
      "   - Provides insights and adjustments based on this data.\n",
      "\n",
      "4. **Interactive Chatbot**:\n",
      "   - An AI-powered chatbot available 24/7 for users to ask questions, seek motivation, and receive instant coaching tips or encouragement.\n",
      "   - Uses natural language processing to understand and respond to user queries contextually.\n",
      "\n",
      "5. **Community and Support Network**:\n",
      "   - A platform for users to connect with others on similar wellness journeys, share experiences, tips, and motivate one another.\n",
      "   - Incorporate forums, group challenges, and success stories to foster engagement.\n",
      "\n",
      "6. **Gamification Elements**:\n",
      "   - Introduce badges, rewards, and challenges to keep users motivated and engaged in their wellness journey.\n",
      "   - Users can earn rewards for reaching milestones, which can be redeemed for discounts, products, or services.\n",
      "\n",
      "7. **Mental Wellness Integration**:\n",
      "   - Offer resources such as guided meditation, stress-relief techniques, and journaling prompts.\n",
      "   - Utilize AI to assess mood via textual analysis if users choose to input daily reflections.\n",
      "\n",
      "#### Potential Market\n",
      "This business would target health-conscious individuals aged 18-65 who prefer personalized solutions and may be looking for a comprehensive approach to wellness. Markets may include fitness enthusiasts, busy professionals seeking work-life balance, and individuals focused on mental health.\n",
      "\n",
      "#### Revenue Streams\n",
      "1. **Subscription Model**:\n",
      "   - Monthly or annual subscription plans for users to access premium features and personalized coaching.\n",
      "   \n",
      "2. **Affiliate Marketing**:\n",
      "   - Partner with health and fitness brands to recommend products or services through the app and earn a commission on referrals.\n",
      "\n",
      "3. **Corporate Wellness Programs**:\n",
      "   - Offer tailored solutions to companies looking to improve employee wellness, reduce healthcare costs, and boost productivity.\n",
      "\n",
      "4. **In-App Purchases**:\n",
      "   - Sell complementary goods such as workout gear, nutrition guides, or virtual one-on-one coaching sessions.\n",
      "\n",
      "#### Challenges to Address\n",
      "1. **Data Privacy & Security**:\n",
      "   - Ensuring rigorous data protection measures are in place to build user trust and comply with regulations.\n",
      "\n",
      "2. **Sustainability of AI Tuning**:\n",
      "   - Continuously improving the AI algorithms to provide up-to-date and relevant recommendations.\n",
      "\n",
      "3. **User Engagement**:\n",
      "   - Retaining users over time and preventing churn through continuous innovation and updates.\n",
      "\n",
      "### Conclusion\n",
      "The Personalized Wellness Coach powered by agentic AI offers a unique opportunity to leverage technology in a growing health and wellness market. By focusing on personalization, community support, and real-time data integration, this business idea has the potential to transform individual wellness journeys and cultivate a loyal user base.\n"
     ]
    }
   ],
   "source": [
    "# ask LLM to propose a business idea worth exploring with agentic AI\n",
    "question = \"propose a business idea worth exploring with agentic AI\"\n",
    "messages = [\n",
    "    {\"role\": \"user\", \"content\": question}\n",
    "]\n",
    "\n",
    "response = openai.chat.completions.create(\n",
    "    model=\"gpt-4o-mini\",\n",
    "    messages=messages\n",
    ")\n",
    "answer = response.choices[0].message.content\n",
    "print(answer)\n",
    "#print(response.choices[0].message.content)"
   ]
  },
  {
   "cell_type": "code",
   "execution_count": 18,
   "metadata": {},
   "outputs": [
    {
     "name": "stdout",
     "output_type": "stream",
     "text": [
      "To effectively identify a pain point ripe for agentic AI, let's consider the healthcare industry as an example.\n",
      "\n",
      "**Pain Point: Administrative Burden in Healthcare**\n",
      "\n",
      "**Overview:**\n",
      "The healthcare industry faces a significant challenge with administrative tasks that consume a substantial amount of time and resources. Healthcare providers must handle paperwork, patient scheduling, billing, insurance claims, record keeping, and regulatory compliance. This administrative burden can divert attention away from patient care and lead to burnout among healthcare professionals.\n",
      "\n",
      "**Agentic AI Solution:**\n",
      "An agentic AI system could automate and optimize many of these administrative processes. For instance, it could:\n",
      "\n",
      "1. **Automate Scheduling:** An AI-powered virtual assistant could manage patient appointments, automatically rescheduling when conflicts arise and sending reminders to reduce no-shows.\n",
      "  \n",
      "2. **Streamlining Documentation:** AI could assist with documentation by converting voice-to-text, summarizing patient visits, and ensuring that electronic health records (EHRs) are updated in real-time, thus minimizing the time spent on paperwork.\n",
      "\n",
      "3. **Billing and Claims Management:** AI could analyze billing codes, ensure accurate submissions to insurance companies, and track claims in real-time, thereby reducing denials and resolving issues faster.\n",
      "\n",
      "4. **Regulatory Compliance:** AI systems could continuously monitor changes in healthcare regulations and ensure that practices adhere to compliance requirements, automating tasks related to audits and reporting.\n",
      "\n",
      "By alleviating the administrative burden, agentic AI has the potential to enhance operational efficiency, improve job satisfaction among healthcare professionals, and ultimately facilitate better patient care. This solution not only addresses a critical pain point but also aligns with the industry's growing focus on technological innovation and patient-centered care.\n"
     ]
    }
   ],
   "source": [
    "## ask LLM to present pain point in above industry that is ripe for agentic AI\n",
    "question = \"present a pain point in the above industry that is ripe for agentic AI\"\n",
    "messages = [\n",
    "    {\"role\": \"user\", \"content\": question}\n",
    "]\n",
    "\n",
    "response = openai.chat.completions.create(\n",
    "    model=\"gpt-4o-mini\",\n",
    "    messages=messages\n",
    ")\n",
    "answer = response.choices[0].message.content\n",
    "print(answer)"
   ]
  },
  {
   "cell_type": "code",
   "execution_count": 21,
   "metadata": {},
   "outputs": [
    {
     "name": "stdout",
     "output_type": "stream",
     "text": [
      "To propose an effective agentic AI solution tailored to a specific pain point, I first need to know what the pain point is. However, I'll provide a general framework for creating an agentic AI solution that can be adapted to various contexts. \n",
      "\n",
      "### General Framework for an Agentic AI Solution\n",
      "\n",
      "1. **Identify the Pain Point**:\n",
      "   - Clearly define the underlying problem you are addressing. For example, it could be inefficiency in workflows, difficulty in data analysis, customer service delays, or any other area that requires improvement.\n",
      "\n",
      "2. **Define Goals and Objectives**:\n",
      "   - Establish clear goals for what the AI solution should achieve. This could include reducing response time, increasing accuracy, enhancing user experience, or lowering operational costs.\n",
      "\n",
      "3. **Data Collection and Preparation**:\n",
      "   - Gather the necessary data relevant to the pain point. This may involve structured data (like databases) and unstructured data (like customer feedback).\n",
      "   - Clean and preprocess the data to ensure it is suitable for training the AI model.\n",
      "\n",
      "4. **Choose the Right AI Techniques**:\n",
      "   - Depending on the problem, select appropriate AI methods. Common options include:\n",
      "     - Machine Learning (for predictive analytics)\n",
      "     - Natural Language Processing (for understanding and generating human language)\n",
      "     - Reinforcement Learning (for creating systems that can learn from interactions)\n",
      "     - Computer Vision (if visual data is involved)\n",
      "\n",
      "5. **Develop an Agentic AI System**:\n",
      "   - **Autonomy**: The AI should have the capability to work independently, making decisions based on the data and the models it has been trained on.\n",
      "   - **Adaptability**: The system should be capable of learning from new data inputs and refining its algorithms over time.\n",
      "   - **Interactive Capabilities**: Incorporate user interfaces that enable interactions with users, allowing them to provide feedback and request clarifications.\n",
      "\n",
      "6. **Implementation**:\n",
      "   - Deploy the AI solution within the organization or environment where the pain point exists. This involves integration with existing systems and ensuring it can access necessary data sources.\n",
      "   \n",
      "7. **Monitoring and Evaluation**:\n",
      "   - Continuously monitor the performance of the AI solution against the defined goals. Use metrics such as accuracy, efficiency, and user satisfaction.\n",
      "   - Regularly evaluate and update the model to accommodate shifts in data patterns or changes in user requirements.\n",
      "\n",
      "8. **User Training and Support**:\n",
      "   - Provide training for end-users to ensure they understand how to interact with the AI system effectively.\n",
      "   - Establish a support system for resolving any issues that may arise during usage.\n",
      "\n",
      "### Example Application\n",
      "\n",
      "**Pain Point**: Slow customer service response times.\n",
      "\n",
      "**Agentic AI Solution**:\n",
      "1. **Goal**: Reduce response time to customer inquiries to under one hour.\n",
      "2. **Data**: Collect historical customer inquiry data and response times.\n",
      "3. **Technique**: Use Natural Language Processing to build a chatbot capable of handling common queries.\n",
      "4. **System**: The chatbot operates autonomously for basic queries while escalating complex issues to human agents.\n",
      "5. **Implementation**: Integrate the chatbot into the support website and social media channels.\n",
      "6. **Monitoring**: Track metrics like response time, customer satisfaction ratings, and resolution efficiency.\n",
      "7. **Training**: Educate customer service representatives on the new tool and how it complements their role.\n",
      "\n",
      "By customizing each element of this framework to align with the specific pain point, you can develop an effective agentic AI solution. If you provide the specific pain point you have in mind, I can offer a more targeted proposal.\n"
     ]
    }
   ],
   "source": [
    "#propose a agentic AI solution to the above pain point\n",
    "question = \"propose a agentic AI solution to the above pain point\"\n",
    "messages = [\n",
    "    {\"role\": \"user\", \"content\": question}\n",
    "]\n",
    "\n",
    "response = openai.chat.completions.create(\n",
    "    model=\"gpt-4o-mini\",\n",
    "    messages=messages\n",
    ")\n",
    "answer = response.choices[0].message.content\n",
    "print(answer)"
   ]
  },
  {
   "cell_type": "code",
   "execution_count": null,
   "metadata": {},
   "outputs": [],
   "source": []
  }
 ],
 "metadata": {
  "kernelspec": {
   "display_name": ".venv",
   "language": "python",
   "name": "python3"
  },
  "language_info": {
   "codemirror_mode": {
    "name": "ipython",
    "version": 3
   },
   "file_extension": ".py",
   "mimetype": "text/x-python",
   "name": "python",
   "nbconvert_exporter": "python",
   "pygments_lexer": "ipython3",
   "version": "3.12.3"
  }
 },
 "nbformat": 4,
 "nbformat_minor": 2
}
